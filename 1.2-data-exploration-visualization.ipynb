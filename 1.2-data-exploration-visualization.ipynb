{
 "cells": [
  {
   "cell_type": "markdown",
   "metadata": {
    "toc": true
   },
   "source": [
    "<h1>Table of Contents<span class=\"tocSkip\"></span></h1>\n",
    "<div class=\"toc\"><ul class=\"toc-item\"><li><span><a href=\"#Data-mining-and-vizualisations\" data-toc-modified-id=\"Data-mining-and-vizualisations-1\"><span class=\"toc-item-num\">1&nbsp;&nbsp;</span>Data mining and vizualisations</a></span><ul class=\"toc-item\"><li><span><a href=\"#Seasonal-price-trends\" data-toc-modified-id=\"Seasonal-price-trends-1.1\"><span class=\"toc-item-num\">1.1&nbsp;&nbsp;</span>Seasonal price trends</a></span></li><li><span><a href=\"#Transactions-vs-Price-per-square-foot\" data-toc-modified-id=\"Transactions-vs-Price-per-square-foot-1.2\"><span class=\"toc-item-num\">1.2&nbsp;&nbsp;</span>Transactions vs Price per square foot</a></span></li><li><span><a href=\"#Average-Price-per-district\" data-toc-modified-id=\"Average-Price-per-district-1.3\"><span class=\"toc-item-num\">1.3&nbsp;&nbsp;</span>Average Price per district</a></span></li><li><span><a href=\"#Pricing-trends-by-district\" data-toc-modified-id=\"Pricing-trends-by-district-1.4\"><span class=\"toc-item-num\">1.4&nbsp;&nbsp;</span>Pricing trends by district</a></span></li><li><span><a href=\"#Number-of-transactions-by-district\" data-toc-modified-id=\"Number-of-transactions-by-district-1.5\"><span class=\"toc-item-num\">1.5&nbsp;&nbsp;</span>Number of transactions by district</a></span></li><li><span><a href=\"#Number-of-new-contructions-per-year\" data-toc-modified-id=\"Number-of-new-contructions-per-year-1.6\"><span class=\"toc-item-num\">1.6&nbsp;&nbsp;</span>Number of new contructions per year</a></span></li><li><span><a href=\"#Trends-between-Hong-Kong-property-prices,-GDP-and-stock-market,-normalized-values\" data-toc-modified-id=\"Trends-between-Hong-Kong-property-prices,-GDP-and-stock-market,-normalized-values-1.7\"><span class=\"toc-item-num\">1.7&nbsp;&nbsp;</span>Trends between Hong Kong property prices, GDP and stock market, normalized values</a></span></li><li><span><a href=\"#Correlations-between-Hong-Kong-property-prices,-GDP-and-stock-market\" data-toc-modified-id=\"Correlations-between-Hong-Kong-property-prices,-GDP-and-stock-market-1.8\"><span class=\"toc-item-num\">1.8&nbsp;&nbsp;</span>Correlations between Hong Kong property prices, GDP and stock market</a></span></li><li><span><a href=\"#Visualizing-the-data-by-district\" data-toc-modified-id=\"Visualizing-the-data-by-district-1.9\"><span class=\"toc-item-num\">1.9&nbsp;&nbsp;</span>Visualizing the data by district</a></span></li></ul></li></ul></div>"
   ]
  },
  {
   "cell_type": "code",
   "execution_count": 1,
   "metadata": {
    "ExecuteTime": {
     "end_time": "2019-04-26T01:22:04.469355Z",
     "start_time": "2019-04-26T01:21:50.101559Z"
    }
   },
   "outputs": [],
   "source": [
    "# Import libraries necessary for this project\n",
    "import numpy as np\n",
    "import pandas as pd\n",
    "import seaborn as sns; sns.set()\n",
    "import matplotlib.pyplot as plt\n",
    "from pandas_datareader import data\n",
    "from pylab import rcParams\n",
    "from sklearn.model_selection import ShuffleSplit\n",
    "import statsmodels.api as sm\n",
    "import warnings\n",
    "import itertools\n",
    "import os\n",
    "import datetime\n",
    "import re\n",
    "\n",
    "# Pretty display for notebooks\n",
    "%matplotlib inline\n",
    "warnings.filterwarnings(\"ignore\")\n",
    "# plt.style.use('fivethirtyeight')"
   ]
  },
  {
   "cell_type": "code",
   "execution_count": 2,
   "metadata": {
    "ExecuteTime": {
     "end_time": "2019-04-26T01:23:10.576571Z",
     "start_time": "2019-04-26T01:22:04.516330Z"
    }
   },
   "outputs": [
    {
     "name": "stdout",
     "output_type": "stream",
     "text": [
      "Number of transactions:  1753761\n"
     ]
    },
    {
     "data": {
      "text/html": [
       "<div>\n",
       "<style scoped>\n",
       "    .dataframe tbody tr th:only-of-type {\n",
       "        vertical-align: middle;\n",
       "    }\n",
       "\n",
       "    .dataframe tbody tr th {\n",
       "        vertical-align: top;\n",
       "    }\n",
       "\n",
       "    .dataframe thead th {\n",
       "        text-align: right;\n",
       "    }\n",
       "</style>\n",
       "<table border=\"1\" class=\"dataframe\">\n",
       "  <thead>\n",
       "    <tr style=\"text-align: right;\">\n",
       "      <th></th>\n",
       "      <th>price</th>\n",
       "      <th>transaction_year</th>\n",
       "      <th>saleablearea</th>\n",
       "      <th>district</th>\n",
       "      <th>yearofcompletion</th>\n",
       "      <th>netPricePerSqf</th>\n",
       "      <th>hang-seng-index</th>\n",
       "      <th>hong-kong-gdp</th>\n",
       "    </tr>\n",
       "    <tr>\n",
       "      <th>date</th>\n",
       "      <th></th>\n",
       "      <th></th>\n",
       "      <th></th>\n",
       "      <th></th>\n",
       "      <th></th>\n",
       "      <th></th>\n",
       "      <th></th>\n",
       "      <th></th>\n",
       "    </tr>\n",
       "  </thead>\n",
       "  <tbody>\n",
       "    <tr>\n",
       "      <th>1996-01-02</th>\n",
       "      <td>2240000</td>\n",
       "      <td>1996</td>\n",
       "      <td>381</td>\n",
       "      <td>Kowloon</td>\n",
       "      <td>1995</td>\n",
       "      <td>5879</td>\n",
       "      <td>10070</td>\n",
       "      <td>279339</td>\n",
       "    </tr>\n",
       "    <tr>\n",
       "      <th>1996-01-02</th>\n",
       "      <td>2230000</td>\n",
       "      <td>1996</td>\n",
       "      <td>379</td>\n",
       "      <td>Kowloon</td>\n",
       "      <td>1995</td>\n",
       "      <td>5883</td>\n",
       "      <td>10070</td>\n",
       "      <td>279339</td>\n",
       "    </tr>\n",
       "    <tr>\n",
       "      <th>1996-01-02</th>\n",
       "      <td>2360000</td>\n",
       "      <td>1996</td>\n",
       "      <td>374</td>\n",
       "      <td>Kowloon</td>\n",
       "      <td>1995</td>\n",
       "      <td>6310</td>\n",
       "      <td>10070</td>\n",
       "      <td>279339</td>\n",
       "    </tr>\n",
       "    <tr>\n",
       "      <th>1996-01-02</th>\n",
       "      <td>2860000</td>\n",
       "      <td>1996</td>\n",
       "      <td>470</td>\n",
       "      <td>Kowloon</td>\n",
       "      <td>1995</td>\n",
       "      <td>6085</td>\n",
       "      <td>10070</td>\n",
       "      <td>279339</td>\n",
       "    </tr>\n",
       "    <tr>\n",
       "      <th>1996-01-02</th>\n",
       "      <td>3000000</td>\n",
       "      <td>1996</td>\n",
       "      <td>470</td>\n",
       "      <td>Kowloon</td>\n",
       "      <td>1995</td>\n",
       "      <td>6382</td>\n",
       "      <td>10070</td>\n",
       "      <td>279339</td>\n",
       "    </tr>\n",
       "  </tbody>\n",
       "</table>\n",
       "</div>"
      ],
      "text/plain": [
       "              price  transaction_year  saleablearea district  \\\n",
       "date                                                           \n",
       "1996-01-02  2240000              1996           381  Kowloon   \n",
       "1996-01-02  2230000              1996           379  Kowloon   \n",
       "1996-01-02  2360000              1996           374  Kowloon   \n",
       "1996-01-02  2860000              1996           470  Kowloon   \n",
       "1996-01-02  3000000              1996           470  Kowloon   \n",
       "\n",
       "            yearofcompletion  netPricePerSqf  hang-seng-index  hong-kong-gdp  \n",
       "date                                                                          \n",
       "1996-01-02              1995            5879            10070         279339  \n",
       "1996-01-02              1995            5883            10070         279339  \n",
       "1996-01-02              1995            6310            10070         279339  \n",
       "1996-01-02              1995            6085            10070         279339  \n",
       "1996-01-02              1995            6382            10070         279339  "
      ]
     },
     "execution_count": 2,
     "metadata": {},
     "output_type": "execute_result"
    }
   ],
   "source": [
    "hong_kong_property_prices_HSI_GDP_region = pd.read_csv('data/processed/hong-kong-property-prices-HSI-GDP-district.csv',index_col='date',parse_dates=True,infer_datetime_format=True)\n",
    "print(\"Number of transactions: \", len(hong_kong_property_prices_HSI_GDP_region))\n",
    "hong_kong_property_prices_HSI_GDP_region.head()"
   ]
  },
  {
   "cell_type": "code",
   "execution_count": 3,
   "metadata": {
    "ExecuteTime": {
     "end_time": "2019-04-26T01:23:10.657525Z",
     "start_time": "2019-04-26T01:23:10.585565Z"
    }
   },
   "outputs": [
    {
     "data": {
      "text/html": [
       "<div>\n",
       "<style scoped>\n",
       "    .dataframe tbody tr th:only-of-type {\n",
       "        vertical-align: middle;\n",
       "    }\n",
       "\n",
       "    .dataframe tbody tr th {\n",
       "        vertical-align: top;\n",
       "    }\n",
       "\n",
       "    .dataframe thead th {\n",
       "        text-align: right;\n",
       "    }\n",
       "</style>\n",
       "<table border=\"1\" class=\"dataframe\">\n",
       "  <thead>\n",
       "    <tr style=\"text-align: right;\">\n",
       "      <th></th>\n",
       "      <th>netPricePerSqf</th>\n",
       "      <th>hang-seng-index</th>\n",
       "      <th>hong-kong-gdp</th>\n",
       "    </tr>\n",
       "    <tr>\n",
       "      <th>date</th>\n",
       "      <th></th>\n",
       "      <th></th>\n",
       "      <th></th>\n",
       "    </tr>\n",
       "  </thead>\n",
       "  <tbody>\n",
       "    <tr>\n",
       "      <th>1996-01-01</th>\n",
       "      <td>100.0</td>\n",
       "      <td>100.0</td>\n",
       "      <td>100.0</td>\n",
       "    </tr>\n",
       "    <tr>\n",
       "      <th>1996-04-01</th>\n",
       "      <td>107.0</td>\n",
       "      <td>99.0</td>\n",
       "      <td>107.0</td>\n",
       "    </tr>\n",
       "    <tr>\n",
       "      <th>1996-07-01</th>\n",
       "      <td>111.0</td>\n",
       "      <td>101.0</td>\n",
       "      <td>114.0</td>\n",
       "    </tr>\n",
       "    <tr>\n",
       "      <th>1996-10-01</th>\n",
       "      <td>119.0</td>\n",
       "      <td>116.0</td>\n",
       "      <td>113.0</td>\n",
       "    </tr>\n",
       "    <tr>\n",
       "      <th>1997-01-01</th>\n",
       "      <td>130.0</td>\n",
       "      <td>121.0</td>\n",
       "      <td>113.0</td>\n",
       "    </tr>\n",
       "  </tbody>\n",
       "</table>\n",
       "</div>"
      ],
      "text/plain": [
       "            netPricePerSqf  hang-seng-index  hong-kong-gdp\n",
       "date                                                      \n",
       "1996-01-01           100.0            100.0          100.0\n",
       "1996-04-01           107.0             99.0          107.0\n",
       "1996-07-01           111.0            101.0          114.0\n",
       "1996-10-01           119.0            116.0          113.0\n",
       "1997-01-01           130.0            121.0          113.0"
      ]
     },
     "execution_count": 3,
     "metadata": {},
     "output_type": "execute_result"
    }
   ],
   "source": [
    "hong_kong_property_prices_HSI_GDP_normalized = pd.read_csv('data/processed/hong-kong-property-prices-HSI-GDP-normalized.csv',index_col='date',parse_dates=True,infer_datetime_format=True)\n",
    "len(hong_kong_property_prices_HSI_GDP_normalized)\n",
    "hong_kong_property_prices_HSI_GDP_normalized.head()"
   ]
  },
  {
   "cell_type": "markdown",
   "metadata": {},
   "source": [
    "# Data mining and vizualisations"
   ]
  },
  {
   "cell_type": "markdown",
   "metadata": {},
   "source": [
    "## Seasonal price trends"
   ]
  },
  {
   "cell_type": "code",
   "execution_count": 4,
   "metadata": {
    "ExecuteTime": {
     "end_time": "2019-04-26T01:23:12.138679Z",
     "start_time": "2019-04-26T01:23:10.694503Z"
    }
   },
   "outputs": [
    {
     "ename": "NameError",
     "evalue": "name 'data_model' is not defined",
     "output_type": "error",
     "traceback": [
      "\u001b[1;31m---------------------------------------------------------------------------\u001b[0m",
      "\u001b[1;31mNameError\u001b[0m                                 Traceback (most recent call last)",
      "\u001b[1;32m<ipython-input-4-f82e9bffba93>\u001b[0m in \u001b[0;36m<module>\u001b[1;34m\u001b[0m\n\u001b[0;32m      1\u001b[0m \u001b[1;31m# Resampled on the first day of the month\u001b[0m\u001b[1;33m\u001b[0m\u001b[1;33m\u001b[0m\u001b[1;33m\u001b[0m\u001b[0m\n\u001b[1;32m----> 2\u001b[1;33m \u001b[0mnetPricePerSqf_resampled_MS\u001b[0m \u001b[1;33m=\u001b[0m \u001b[0mdata_model\u001b[0m\u001b[1;33m[\u001b[0m\u001b[1;34m'netPricePerSqf'\u001b[0m\u001b[1;33m]\u001b[0m\u001b[1;33m.\u001b[0m\u001b[0mresample\u001b[0m\u001b[1;33m(\u001b[0m\u001b[1;34m'MS'\u001b[0m\u001b[1;33m)\u001b[0m\u001b[1;33m.\u001b[0m\u001b[0mmedian\u001b[0m\u001b[1;33m(\u001b[0m\u001b[1;33m)\u001b[0m\u001b[1;33m\u001b[0m\u001b[1;33m\u001b[0m\u001b[0m\n\u001b[0m\u001b[0;32m      3\u001b[0m \u001b[0mnetPricePerSqf_resampled_MS\u001b[0m\u001b[1;33m.\u001b[0m\u001b[0mhead\u001b[0m\u001b[1;33m(\u001b[0m\u001b[1;33m)\u001b[0m\u001b[1;33m\u001b[0m\u001b[1;33m\u001b[0m\u001b[0m\n",
      "\u001b[1;31mNameError\u001b[0m: name 'data_model' is not defined"
     ]
    }
   ],
   "source": [
    "# Resampled on the first day of the month\n",
    "netPricePerSqf_resampled_MS = data_model['netPricePerSqf'].resample('MS').median()\n",
    "netPricePerSqf_resampled_MS.head()"
   ]
  },
  {
   "cell_type": "code",
   "execution_count": null,
   "metadata": {
    "ExecuteTime": {
     "end_time": "2019-04-26T01:23:12.156669Z",
     "start_time": "2019-04-26T01:21:50.194Z"
    }
   },
   "outputs": [],
   "source": [
    "rcParams['figure.figsize'] = 18, 8\n",
    "decomposition = sm.tsa.seasonal_decompose(netPricePerSqf_resampled_MS, model='additive')\n",
    "fig = decomposition.plot()\n",
    "plt.show()"
   ]
  },
  {
   "cell_type": "code",
   "execution_count": null,
   "metadata": {
    "ExecuteTime": {
     "end_time": "2019-04-26T01:23:12.163665Z",
     "start_time": "2019-04-26T01:21:50.206Z"
    }
   },
   "outputs": [],
   "source": [
    "p = d = q = range(0, 2)\n",
    "pdq = list(itertools.product(p, d, q))\n",
    "seasonal_pdq = [(x[0], x[1], x[2], 12) for x in list(itertools.product(p, d, q))]\n",
    "print('Examples of parameter combinations for Seasonal ARIMA...')\n",
    "print('SARIMAX: {} x {}'.format(pdq[1], seasonal_pdq[1]))\n",
    "print('SARIMAX: {} x {}'.format(pdq[1], seasonal_pdq[2]))\n",
    "print('SARIMAX: {} x {}'.format(pdq[2], seasonal_pdq[3]))\n",
    "print('SARIMAX: {} x {}'.format(pdq[2], seasonal_pdq[4]))"
   ]
  },
  {
   "cell_type": "code",
   "execution_count": null,
   "metadata": {
    "ExecuteTime": {
     "end_time": "2019-04-26T01:23:12.169661Z",
     "start_time": "2019-04-26T01:21:50.223Z"
    }
   },
   "outputs": [],
   "source": [
    "vs.arima(pdq,seasonal_pdq)"
   ]
  },
  {
   "cell_type": "code",
   "execution_count": null,
   "metadata": {
    "ExecuteTime": {
     "end_time": "2019-04-26T01:23:12.174659Z",
     "start_time": "2019-04-26T01:21:50.242Z"
    }
   },
   "outputs": [],
   "source": [
    "mod = sm.tsa.statespace.SARIMAX(netPricePerSqf_resampled_MS,\n",
    "                                order=(1, 1, 1),\n",
    "                                seasonal_order=(1, 1, 0, 12),\n",
    "                                enforce_stationarity=False,\n",
    "                                enforce_invertibility=False)\n",
    "results = mod.fit()\n",
    "print(results.summary().tables[1])"
   ]
  },
  {
   "cell_type": "code",
   "execution_count": null,
   "metadata": {
    "ExecuteTime": {
     "end_time": "2019-04-26T01:23:12.194645Z",
     "start_time": "2019-04-26T01:21:50.306Z"
    }
   },
   "outputs": [],
   "source": [
    "results.plot_diagnostics(figsize=(16, 8))\n",
    "plt.show()"
   ]
  },
  {
   "cell_type": "code",
   "execution_count": null,
   "metadata": {
    "ExecuteTime": {
     "end_time": "2019-04-26T01:23:12.246617Z",
     "start_time": "2019-04-26T01:21:50.327Z"
    }
   },
   "outputs": [],
   "source": [
    "pred = results.get_prediction(start=pd.to_datetime('2014-01-01'), dynamic=False)\n",
    "pred_ci = pred.conf_int()\n",
    "ax = netPricePerSqf_resampled_MS['2009':].plot(label='observed')\n",
    "pred.predicted_mean.plot(ax=ax, label='One-step ahead Forecast', alpha=.7, figsize=(14, 7))\n",
    "ax.fill_between(pred_ci.index,\n",
    "                pred_ci.iloc[:, 0],\n",
    "                pred_ci.iloc[:, 1], color='k', alpha=.2)\n",
    "ax.set_xlabel('Date')\n",
    "ax.set_ylabel('net price per SQF ( Hong Kong dollars)')\n",
    "plt.legend()\n",
    "plt.show()"
   ]
  },
  {
   "cell_type": "markdown",
   "metadata": {},
   "source": [
    "## Transactions vs Price per square foot"
   ]
  },
  {
   "cell_type": "code",
   "execution_count": null,
   "metadata": {
    "ExecuteTime": {
     "end_time": "2019-04-26T01:23:12.251613Z",
     "start_time": "2019-04-26T01:21:50.361Z"
    }
   },
   "outputs": [],
   "source": [
    "# Number of transactions per year\n",
    "transactionsPerYear = hong_kong_property_prices_HSI_GDP_region.groupby(by=\"transaction_year\").count().reset_index()\n",
    "transactionsPerYear = transactionsPerYear[['transaction_year','netPricePerSqf']].rename(columns = {'netPricePerSqf':'count'})\n",
    "transactionsPerYear\n",
    "\n",
    "# Average netPricePerSqf per year\n",
    "MedianNetPricePerSqfByYear = hong_kong_property_prices_HSI_GDP_region[['netPricePerSqf','transaction_year']].groupby(by=\"transaction_year\").median()\n",
    "MedianNetPricePerSqfByYear['netPricePerSqf'] = MedianNetPricePerSqfByYear['netPricePerSqf'].astype('int')\n",
    "MedianNetPricePerSqfByYear = MedianNetPricePerSqfByYear.reset_index()\n",
    "\n",
    "# line plot\n",
    "fig, ax = plt.subplots()\n",
    "ax2 = ax.twinx()\n",
    "ax2.grid(None)\n",
    "\n",
    "sns.lineplot(x=\"transaction_year\", y =\"count\", data=transactionsPerYear,color=\"grey\", ax=ax)\n",
    "sns.lineplot(x=\"transaction_year\", y=\"netPricePerSqf\",data=MedianNetPricePerSqfByYear, ax=ax2)\n",
    "\n",
    "ax.legend(handles=[a.lines[0] for a in [ax,ax2]], \n",
    "           labels=[\"transactions\", \"median price per saleable square foot\"],\n",
    "         loc=9)\n",
    "\n",
    "sns.set(rc={'figure.figsize':(8,5)})\n",
    "plt.show()"
   ]
  },
  {
   "cell_type": "markdown",
   "metadata": {},
   "source": [
    "## Average Price per district"
   ]
  },
  {
   "cell_type": "code",
   "execution_count": null,
   "metadata": {
    "ExecuteTime": {
     "end_time": "2019-04-26T01:23:12.256612Z",
     "start_time": "2019-04-26T01:21:50.383Z"
    }
   },
   "outputs": [],
   "source": [
    "# Average netPricePerSqf per year per district\n",
    "plotdata2018_district = hong_kong_property_prices_HSI_GDP_region[['netPricePerSqf','district']]\n",
    "plotdata2018_district['netPricePerSqf'] = plotdata2018_district['netPricePerSqf'].astype('int')\n",
    "plotdata2018_district = plotdata2018_district.sort_values('netPricePerSqf',ascending=False)\n",
    "plotdata2018_district.head()"
   ]
  },
  {
   "cell_type": "code",
   "execution_count": null,
   "metadata": {
    "ExecuteTime": {
     "end_time": "2019-04-26T01:23:12.260609Z",
     "start_time": "2019-04-26T01:21:50.394Z"
    }
   },
   "outputs": [],
   "source": [
    "sns.set(style=\"whitegrid\")\n",
    "sns.set(rc={'figure.figsize':(15,5)})\n",
    "\n",
    "ax = sns.boxplot(x=\"district\", y=\"netPricePerSqf\",\n",
    "#               color=\"b\",\n",
    "                 showfliers=False,\n",
    "#               order=plotdata2018_district['netPricePerSqf'],\n",
    "                 data=plotdata2018_district)\n",
    "# ax.set_yscale('log')\n",
    "ax.set_xticklabels(ax.get_xticklabels(), rotation=50, fontsize=12, rotation_mode='anchor', ha='right')\n",
    "print(ax)"
   ]
  },
  {
   "cell_type": "markdown",
   "metadata": {},
   "source": [
    "## Pricing trends by district"
   ]
  },
  {
   "cell_type": "code",
   "execution_count": null,
   "metadata": {
    "ExecuteTime": {
     "end_time": "2019-04-26T01:23:12.265606Z",
     "start_time": "2019-04-26T01:21:50.416Z"
    }
   },
   "outputs": [],
   "source": [
    "plotdata_grouped = hong_kong_property_prices_HSI_GDP_region[['district','transaction_year','netPricePerSqf']]\n",
    "plotdata_grouped[['transaction_year','netPricePerSqf']] = plotdata_grouped[['transaction_year','netPricePerSqf']].astype('int')\n",
    "plotdata_grouped = plotdata_grouped.groupby([\"transaction_year\",\"district\"])['netPricePerSqf'].median()\n",
    "plotdata_grouped = plotdata_grouped.unstack()\n",
    "\n",
    "normalized = plotdata_grouped.div(plotdata_grouped.iloc[0]).mul(100)"
   ]
  },
  {
   "cell_type": "code",
   "execution_count": null,
   "metadata": {
    "ExecuteTime": {
     "end_time": "2019-04-26T01:23:12.270603Z",
     "start_time": "2019-04-26T01:21:50.426Z"
    }
   },
   "outputs": [],
   "source": [
    "ax = normalized.plot()\n",
    "ax.legend(loc='upper center', bbox_to_anchor=(0.5, -0.12),shadow=True, ncol=3)\n",
    "ax"
   ]
  },
  {
   "cell_type": "markdown",
   "metadata": {},
   "source": [
    "## Number of transactions by district"
   ]
  },
  {
   "cell_type": "code",
   "execution_count": null,
   "metadata": {
    "ExecuteTime": {
     "end_time": "2019-04-26T01:23:12.291591Z",
     "start_time": "2019-04-26T01:21:50.438Z"
    }
   },
   "outputs": [],
   "source": [
    "transactions_year = hong_kong_property_prices_HSI_GDP_region.groupby(['district', 'transaction_year']).size().reset_index().pivot(columns='transaction_year', index='district', values=0)\n",
    "transactions_year.fillna(value=0,inplace=True)\n",
    "transactions_year = transactions_year.astype('int')"
   ]
  },
  {
   "cell_type": "code",
   "execution_count": null,
   "metadata": {
    "ExecuteTime": {
     "end_time": "2019-04-26T01:23:12.297589Z",
     "start_time": "2019-04-26T01:21:50.457Z"
    },
    "scrolled": true
   },
   "outputs": [],
   "source": [
    "ax = transactions_year.T.plot.bar(stacked=True)\n",
    "horiz_offset = 1\n",
    "vert_offset = 1\n",
    "ax.set_xlabel('Years')\n",
    "ax.set_ylabel('Number of Transactions')\n",
    "ax.set_xticklabels(ax.get_xticklabels(), rotation=50, fontsize=12, rotation_mode='anchor', ha='right')\n",
    "ax.legend(bbox_to_anchor=(horiz_offset, vert_offset))"
   ]
  },
  {
   "cell_type": "markdown",
   "metadata": {},
   "source": [
    "## Number of new contructions per year"
   ]
  },
  {
   "cell_type": "code",
   "execution_count": null,
   "metadata": {
    "ExecuteTime": {
     "end_time": "2019-04-26T01:23:12.302584Z",
     "start_time": "2019-04-26T01:21:50.469Z"
    }
   },
   "outputs": [],
   "source": [
    "completion_by_year = hong_kong_property_prices_HSI_GDP_region.groupby(['district', 'yearofcompletion']).size().reset_index().pivot(columns='yearofcompletion', index='district', values=0)\n",
    "completion_by_year.fillna(value=0,inplace=True)\n",
    "completion_by_year = completion_by_year.astype('int')"
   ]
  },
  {
   "cell_type": "code",
   "execution_count": null,
   "metadata": {
    "ExecuteTime": {
     "end_time": "2019-04-26T01:23:12.307582Z",
     "start_time": "2019-04-26T01:21:50.480Z"
    }
   },
   "outputs": [],
   "source": [
    "ax = completion_by_year.T[(completion_by_year.T.index >= 1960) == True].plot.bar(stacked=True)\n",
    "horiz_offset = 1\n",
    "vert_offset = 1\n",
    "ax.set_xlabel('Years')\n",
    "ax.set_ylabel('Number of Transactions')\n",
    "ax.set_xticklabels(ax.get_xticklabels(), rotation=50, fontsize=12, rotation_mode='anchor', ha='right')\n",
    "ax.legend(bbox_to_anchor=(horiz_offset, vert_offset))"
   ]
  },
  {
   "cell_type": "markdown",
   "metadata": {},
   "source": [
    "## Trends between Hong Kong property prices, GDP and stock market, normalized values"
   ]
  },
  {
   "cell_type": "code",
   "execution_count": null,
   "metadata": {
    "ExecuteTime": {
     "end_time": "2019-04-26T01:23:12.311579Z",
     "start_time": "2019-04-26T01:21:50.517Z"
    }
   },
   "outputs": [],
   "source": [
    "fig, ax = plt.subplots()\n",
    "ax = sns.lineplot(data=hong_kong_property_prices_HSI_GDP_normalized)\n",
    "sns.set(rc={'figure.figsize':(12,5)})\n",
    "plt.show()"
   ]
  },
  {
   "cell_type": "markdown",
   "metadata": {},
   "source": [
    "## Correlations between Hong Kong property prices, GDP and stock market"
   ]
  },
  {
   "cell_type": "code",
   "execution_count": null,
   "metadata": {
    "ExecuteTime": {
     "end_time": "2019-04-26T01:23:12.318575Z",
     "start_time": "2019-04-26T01:21:50.543Z"
    }
   },
   "outputs": [],
   "source": [
    "data_corr_plot = hong_kong_property_prices_HSI_GDP_region[['netPricePerSqf', 'hang-seng-index', 'hong-kong-gdp']]\n",
    "\n",
    "# Calculate and show correlation matrix\n",
    "cols = data_corr_plot.columns\n",
    "cm = np.corrcoef(data_corr_plot.values.T)\n",
    "\n",
    "sns.set(font_scale=1.5)\n",
    "hm = sns.heatmap(cm,\n",
    "                cbar=True,\n",
    "                annot=True,\n",
    "                square=True,\n",
    "                fmt='.2f',\n",
    "                annot_kws={'size': 15},\n",
    "                yticklabels=cols,\n",
    "                xticklabels=cols\n",
    "                )"
   ]
  },
  {
   "cell_type": "markdown",
   "metadata": {},
   "source": [
    "## Visualizing the data by district"
   ]
  },
  {
   "cell_type": "code",
   "execution_count": null,
   "metadata": {
    "ExecuteTime": {
     "end_time": "2019-04-26T01:23:12.323573Z",
     "start_time": "2019-04-26T01:21:50.576Z"
    }
   },
   "outputs": [],
   "source": [
    "data_plot_region = hong_kong_property_prices_HSI_GDP_region[['price','transaction_year','saleablearea','netPricePerSqf','district']]\n",
    "\n",
    "# Visualizing the multidimensional relationships among the samples\n",
    "sns.set(style=\"ticks\")\n",
    "g = sns.pairplot(data_plot_region,\n",
    "                 hue=\"district\", palette=\"husl\")\n",
    "g"
   ]
  }
 ],
 "metadata": {
  "kernelspec": {
   "display_name": "Python 3",
   "language": "python",
   "name": "python3"
  },
  "language_info": {
   "codemirror_mode": {
    "name": "ipython",
    "version": 3
   },
   "file_extension": ".py",
   "mimetype": "text/x-python",
   "name": "python",
   "nbconvert_exporter": "python",
   "pygments_lexer": "ipython3",
   "version": "3.7.1"
  },
  "toc": {
   "base_numbering": 1,
   "nav_menu": {},
   "number_sections": true,
   "sideBar": true,
   "skip_h1_title": false,
   "title_cell": "Table of Contents",
   "title_sidebar": "Contents",
   "toc_cell": true,
   "toc_position": {
    "height": "calc(100% - 180px)",
    "left": "10px",
    "top": "150px",
    "width": "287.766px"
   },
   "toc_section_display": true,
   "toc_window_display": true
  }
 },
 "nbformat": 4,
 "nbformat_minor": 2
}
