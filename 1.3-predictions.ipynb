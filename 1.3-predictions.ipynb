{
 "cells": [
  {
   "cell_type": "markdown",
   "metadata": {
    "toc": true
   },
   "source": [
    "<h1>Table of Contents<span class=\"tocSkip\"></span></h1>\n",
    "<div class=\"toc\"><ul class=\"toc-item\"><li><span><a href=\"#Developing-a-Model\" data-toc-modified-id=\"Developing-a-Model-1\"><span class=\"toc-item-num\">1&nbsp;&nbsp;</span>Developing a Model</a></span><ul class=\"toc-item\"><li><span><a href=\"#Create-a-training-set\" data-toc-modified-id=\"Create-a-training-set-1.1\"><span class=\"toc-item-num\">1.1&nbsp;&nbsp;</span>Create a training set</a></span></li><li><span><a href=\"#Linear-Regression---Sklearn\" data-toc-modified-id=\"Linear-Regression---Sklearn-1.2\"><span class=\"toc-item-num\">1.2&nbsp;&nbsp;</span>Linear Regression - Sklearn</a></span><ul class=\"toc-item\"><li><span><a href=\"#Create-the-model\" data-toc-modified-id=\"Create-the-model-1.2.1\"><span class=\"toc-item-num\">1.2.1&nbsp;&nbsp;</span>Create the model</a></span></li><li><span><a href=\"#Evaluating-the-model\" data-toc-modified-id=\"Evaluating-the-model-1.2.2\"><span class=\"toc-item-num\">1.2.2&nbsp;&nbsp;</span>Evaluating the model</a></span></li></ul></li><li><span><a href=\"#DecisionTreeRegressor\" data-toc-modified-id=\"DecisionTreeRegressor-1.3\"><span class=\"toc-item-num\">1.3&nbsp;&nbsp;</span>DecisionTreeRegressor</a></span><ul class=\"toc-item\"><li><span><a href=\"#Create-the-model\" data-toc-modified-id=\"Create-the-model-1.3.1\"><span class=\"toc-item-num\">1.3.1&nbsp;&nbsp;</span>Create the model</a></span></li><li><span><a href=\"#Find-the-optimal-model-depth\" data-toc-modified-id=\"Find-the-optimal-model-depth-1.3.2\"><span class=\"toc-item-num\">1.3.2&nbsp;&nbsp;</span>Find the optimal model depth</a></span></li><li><span><a href=\"#Without-specifying-the-maximum-number-of-nodes\" data-toc-modified-id=\"Without-specifying-the-maximum-number-of-nodes-1.3.3\"><span class=\"toc-item-num\">1.3.3&nbsp;&nbsp;</span>Without specifying the maximum number of nodes</a></span><ul class=\"toc-item\"><li><span><a href=\"#Predicting-Selling-Prices\" data-toc-modified-id=\"Predicting-Selling-Prices-1.3.3.1\"><span class=\"toc-item-num\">1.3.3.1&nbsp;&nbsp;</span>Predicting Selling Prices</a></span></li></ul></li><li><span><a href=\"#Specifying-the-maximum-number-of-nodes---Bias-Variance-Trade-off\" data-toc-modified-id=\"Specifying-the-maximum-number-of-nodes---Bias-Variance-Trade-off-1.3.4\"><span class=\"toc-item-num\">1.3.4&nbsp;&nbsp;</span>Specifying the maximum number of nodes - Bias Variance Trade-off</a></span></li></ul></li><li><span><a href=\"#Random-Forest\" data-toc-modified-id=\"Random-Forest-1.4\"><span class=\"toc-item-num\">1.4&nbsp;&nbsp;</span>Random Forest</a></span></li></ul></li></ul></div>"
   ]
  },
  {
   "cell_type": "code",
   "execution_count": 1,
   "metadata": {
    "ExecuteTime": {
     "end_time": "2019-04-26T09:17:19.699139Z",
     "start_time": "2019-04-26T09:17:13.589535Z"
    }
   },
   "outputs": [],
   "source": [
    "%load_ext autoreload\n",
    "\n",
    "# Import libraries necessary for this project\n",
    "import numpy as np\n",
    "import pandas as pd\n",
    "from scipy import stats\n",
    "from pandas_datareader import data\n",
    "from pylab import rcParams\n",
    "from sklearn.model_selection import ShuffleSplit\n",
    "from sklearn.tree import DecisionTreeRegressor\n",
    "from sklearn.metrics import make_scorer\n",
    "from sklearn.model_selection import GridSearchCV\n",
    "import statsmodels.api as sm\n",
    "import os\n",
    "import datetime\n",
    "import re\n",
    "import matplotlib.pyplot as plt\n",
    "import seaborn as sns; sns.set()\n",
    "import statsmodels.api as sm\n",
    "import warnings\n",
    "warnings.filterwarnings(\"ignore\", category = UserWarning, module = \"matplotlib\")\n",
    "import itertools\n",
    "\n",
    "# Pretty display for notebooks\n",
    "%matplotlib inline\n",
    "\n",
    "# Import supplementary visualizations code visuals.py\n",
    "import visuals as vs\n",
    "\n",
    "# Hide sklearn future warnings\n",
    "import warnings\n",
    "warnings.filterwarnings(\"ignore\")"
   ]
  },
  {
   "cell_type": "code",
   "execution_count": 2,
   "metadata": {
    "ExecuteTime": {
     "end_time": "2019-04-26T09:17:25.206985Z",
     "start_time": "2019-04-26T09:17:19.704127Z"
    }
   },
   "outputs": [],
   "source": [
    "# Load the data\n",
    "data_model = pd.read_csv('data/processed/hong-kong-property-prices-model.csv',index_col='date',parse_dates=True,infer_datetime_format=True)"
   ]
  },
  {
   "cell_type": "code",
   "execution_count": 3,
   "metadata": {
    "ExecuteTime": {
     "end_time": "2019-04-26T09:17:25.329915Z",
     "start_time": "2019-04-26T09:17:25.210984Z"
    }
   },
   "outputs": [
    {
     "name": "stdout",
     "output_type": "stream",
     "text": [
      "183807\n"
     ]
    },
    {
     "data": {
      "text/html": [
       "<div>\n",
       "<style scoped>\n",
       "    .dataframe tbody tr th:only-of-type {\n",
       "        vertical-align: middle;\n",
       "    }\n",
       "\n",
       "    .dataframe tbody tr th {\n",
       "        vertical-align: top;\n",
       "    }\n",
       "\n",
       "    .dataframe thead th {\n",
       "        text-align: right;\n",
       "    }\n",
       "</style>\n",
       "<table border=\"1\" class=\"dataframe\">\n",
       "  <thead>\n",
       "    <tr style=\"text-align: right;\">\n",
       "      <th></th>\n",
       "      <th>price</th>\n",
       "      <th>saleablearea</th>\n",
       "      <th>grossarea</th>\n",
       "      <th>regioncode</th>\n",
       "      <th>floor</th>\n",
       "      <th>yearofcompletion</th>\n",
       "      <th>transaction_year</th>\n",
       "      <th>netPricePerSqf</th>\n",
       "    </tr>\n",
       "    <tr>\n",
       "      <th>date</th>\n",
       "      <th></th>\n",
       "      <th></th>\n",
       "      <th></th>\n",
       "      <th></th>\n",
       "      <th></th>\n",
       "      <th></th>\n",
       "      <th></th>\n",
       "      <th></th>\n",
       "    </tr>\n",
       "  </thead>\n",
       "  <tbody>\n",
       "    <tr>\n",
       "      <th>2009-01-02</th>\n",
       "      <td>1230000</td>\n",
       "      <td>386</td>\n",
       "      <td>480</td>\n",
       "      <td>216</td>\n",
       "      <td>22</td>\n",
       "      <td>1977</td>\n",
       "      <td>2009</td>\n",
       "      <td>3186</td>\n",
       "    </tr>\n",
       "    <tr>\n",
       "      <th>2009-01-02</th>\n",
       "      <td>3370000</td>\n",
       "      <td>874</td>\n",
       "      <td>1175</td>\n",
       "      <td>408</td>\n",
       "      <td>32</td>\n",
       "      <td>2002</td>\n",
       "      <td>2009</td>\n",
       "      <td>3855</td>\n",
       "    </tr>\n",
       "    <tr>\n",
       "      <th>2009-01-02</th>\n",
       "      <td>1200000</td>\n",
       "      <td>508</td>\n",
       "      <td>642</td>\n",
       "      <td>402</td>\n",
       "      <td>12</td>\n",
       "      <td>1998</td>\n",
       "      <td>2009</td>\n",
       "      <td>2362</td>\n",
       "    </tr>\n",
       "    <tr>\n",
       "      <th>2009-01-02</th>\n",
       "      <td>1560000</td>\n",
       "      <td>410</td>\n",
       "      <td>539</td>\n",
       "      <td>307</td>\n",
       "      <td>24</td>\n",
       "      <td>1991</td>\n",
       "      <td>2009</td>\n",
       "      <td>3804</td>\n",
       "    </tr>\n",
       "    <tr>\n",
       "      <th>2009-01-02</th>\n",
       "      <td>1440000</td>\n",
       "      <td>467</td>\n",
       "      <td>599</td>\n",
       "      <td>406</td>\n",
       "      <td>6</td>\n",
       "      <td>1989</td>\n",
       "      <td>2009</td>\n",
       "      <td>3083</td>\n",
       "    </tr>\n",
       "  </tbody>\n",
       "</table>\n",
       "</div>"
      ],
      "text/plain": [
       "              price  saleablearea  grossarea  regioncode  floor  \\\n",
       "date                                                              \n",
       "2009-01-02  1230000           386        480         216     22   \n",
       "2009-01-02  3370000           874       1175         408     32   \n",
       "2009-01-02  1200000           508        642         402     12   \n",
       "2009-01-02  1560000           410        539         307     24   \n",
       "2009-01-02  1440000           467        599         406      6   \n",
       "\n",
       "            yearofcompletion  transaction_year  netPricePerSqf  \n",
       "date                                                            \n",
       "2009-01-02              1977              2009            3186  \n",
       "2009-01-02              2002              2009            3855  \n",
       "2009-01-02              1998              2009            2362  \n",
       "2009-01-02              1991              2009            3804  \n",
       "2009-01-02              1989              2009            3083  "
      ]
     },
     "execution_count": 3,
     "metadata": {},
     "output_type": "execute_result"
    }
   ],
   "source": [
    "# We are going to focus on a period when the price increase was fairly consistent\n",
    "date_from = '2009-01-01'\n",
    "date_until = '2015-12-31'\n",
    "\n",
    "# filter the dataset\n",
    "data_model = data_model[data_model.transaction_year >= int(re.match('\\d{4}', date_from).group())]\n",
    "data_model = data_model[data_model.transaction_year <= int(re.match('\\d{4}', date_until).group())]\n",
    "\n",
    "print(len(data_model))\n",
    "data_model.head()"
   ]
  },
  {
   "cell_type": "code",
   "execution_count": 4,
   "metadata": {
    "ExecuteTime": {
     "end_time": "2019-04-26T09:17:25.475832Z",
     "start_time": "2019-04-26T09:17:25.338910Z"
    }
   },
   "outputs": [],
   "source": [
    "# remove outliers\n",
    "data_model = data_model[(np.abs(stats.zscore(data_model)) < 3).all(axis=1)]"
   ]
  },
  {
   "cell_type": "code",
   "execution_count": 5,
   "metadata": {
    "ExecuteTime": {
     "end_time": "2019-04-26T09:17:25.797650Z",
     "start_time": "2019-04-26T09:17:25.489824Z"
    }
   },
   "outputs": [
    {
     "data": {
      "text/html": [
       "<div>\n",
       "<style scoped>\n",
       "    .dataframe tbody tr th:only-of-type {\n",
       "        vertical-align: middle;\n",
       "    }\n",
       "\n",
       "    .dataframe tbody tr th {\n",
       "        vertical-align: top;\n",
       "    }\n",
       "\n",
       "    .dataframe thead th {\n",
       "        text-align: right;\n",
       "    }\n",
       "</style>\n",
       "<table border=\"1\" class=\"dataframe\">\n",
       "  <thead>\n",
       "    <tr style=\"text-align: right;\">\n",
       "      <th></th>\n",
       "      <th>price</th>\n",
       "      <th>saleablearea</th>\n",
       "      <th>grossarea</th>\n",
       "      <th>regioncode</th>\n",
       "      <th>floor</th>\n",
       "      <th>yearofcompletion</th>\n",
       "      <th>transaction_year</th>\n",
       "      <th>netPricePerSqf</th>\n",
       "    </tr>\n",
       "  </thead>\n",
       "  <tbody>\n",
       "    <tr>\n",
       "      <th>count</th>\n",
       "      <td>1.774780e+05</td>\n",
       "      <td>177478.000000</td>\n",
       "      <td>177478.000000</td>\n",
       "      <td>177478.000000</td>\n",
       "      <td>177478.000000</td>\n",
       "      <td>177478.000000</td>\n",
       "      <td>177478.000000</td>\n",
       "      <td>177478.000000</td>\n",
       "    </tr>\n",
       "    <tr>\n",
       "      <th>mean</th>\n",
       "      <td>3.041170e+06</td>\n",
       "      <td>500.211992</td>\n",
       "      <td>648.481271</td>\n",
       "      <td>331.049313</td>\n",
       "      <td>15.941711</td>\n",
       "      <td>1991.477513</td>\n",
       "      <td>2011.355267</td>\n",
       "      <td>6023.716348</td>\n",
       "    </tr>\n",
       "    <tr>\n",
       "      <th>std</th>\n",
       "      <td>1.705854e+06</td>\n",
       "      <td>156.449112</td>\n",
       "      <td>200.241191</td>\n",
       "      <td>86.772416</td>\n",
       "      <td>10.662306</td>\n",
       "      <td>10.269693</td>\n",
       "      <td>1.935113</td>\n",
       "      <td>2481.833101</td>\n",
       "    </tr>\n",
       "    <tr>\n",
       "      <th>min</th>\n",
       "      <td>1.000000e+05</td>\n",
       "      <td>141.000000</td>\n",
       "      <td>183.000000</td>\n",
       "      <td>102.000000</td>\n",
       "      <td>0.000000</td>\n",
       "      <td>1961.000000</td>\n",
       "      <td>2009.000000</td>\n",
       "      <td>264.000000</td>\n",
       "    </tr>\n",
       "    <tr>\n",
       "      <th>25%</th>\n",
       "      <td>1.800000e+06</td>\n",
       "      <td>391.000000</td>\n",
       "      <td>508.000000</td>\n",
       "      <td>302.000000</td>\n",
       "      <td>7.000000</td>\n",
       "      <td>1985.000000</td>\n",
       "      <td>2010.000000</td>\n",
       "      <td>4122.000000</td>\n",
       "    </tr>\n",
       "    <tr>\n",
       "      <th>50%</th>\n",
       "      <td>2.610000e+06</td>\n",
       "      <td>476.000000</td>\n",
       "      <td>613.000000</td>\n",
       "      <td>402.000000</td>\n",
       "      <td>15.000000</td>\n",
       "      <td>1991.000000</td>\n",
       "      <td>2011.000000</td>\n",
       "      <td>5625.000000</td>\n",
       "    </tr>\n",
       "    <tr>\n",
       "      <th>75%</th>\n",
       "      <td>3.880000e+06</td>\n",
       "      <td>579.000000</td>\n",
       "      <td>738.000000</td>\n",
       "      <td>403.000000</td>\n",
       "      <td>23.000000</td>\n",
       "      <td>1999.000000</td>\n",
       "      <td>2013.000000</td>\n",
       "      <td>7591.000000</td>\n",
       "    </tr>\n",
       "    <tr>\n",
       "      <th>max</th>\n",
       "      <td>1.220000e+07</td>\n",
       "      <td>1171.000000</td>\n",
       "      <td>1540.000000</td>\n",
       "      <td>410.000000</td>\n",
       "      <td>51.000000</td>\n",
       "      <td>2017.000000</td>\n",
       "      <td>2015.000000</td>\n",
       "      <td>14049.000000</td>\n",
       "    </tr>\n",
       "  </tbody>\n",
       "</table>\n",
       "</div>"
      ],
      "text/plain": [
       "              price   saleablearea      grossarea     regioncode  \\\n",
       "count  1.774780e+05  177478.000000  177478.000000  177478.000000   \n",
       "mean   3.041170e+06     500.211992     648.481271     331.049313   \n",
       "std    1.705854e+06     156.449112     200.241191      86.772416   \n",
       "min    1.000000e+05     141.000000     183.000000     102.000000   \n",
       "25%    1.800000e+06     391.000000     508.000000     302.000000   \n",
       "50%    2.610000e+06     476.000000     613.000000     402.000000   \n",
       "75%    3.880000e+06     579.000000     738.000000     403.000000   \n",
       "max    1.220000e+07    1171.000000    1540.000000     410.000000   \n",
       "\n",
       "               floor  yearofcompletion  transaction_year  netPricePerSqf  \n",
       "count  177478.000000     177478.000000     177478.000000   177478.000000  \n",
       "mean       15.941711       1991.477513       2011.355267     6023.716348  \n",
       "std        10.662306         10.269693          1.935113     2481.833101  \n",
       "min         0.000000       1961.000000       2009.000000      264.000000  \n",
       "25%         7.000000       1985.000000       2010.000000     4122.000000  \n",
       "50%        15.000000       1991.000000       2011.000000     5625.000000  \n",
       "75%        23.000000       1999.000000       2013.000000     7591.000000  \n",
       "max        51.000000       2017.000000       2015.000000    14049.000000  "
      ]
     },
     "execution_count": 5,
     "metadata": {},
     "output_type": "execute_result"
    }
   ],
   "source": [
    "data_model.describe()"
   ]
  },
  {
   "cell_type": "code",
   "execution_count": 6,
   "metadata": {
    "ExecuteTime": {
     "end_time": "2019-04-26T09:17:25.882599Z",
     "start_time": "2019-04-26T09:17:25.802645Z"
    }
   },
   "outputs": [
    {
     "name": "stdout",
     "output_type": "stream",
     "text": [
      "<class 'pandas.core.frame.DataFrame'>\n",
      "DatetimeIndex: 177478 entries, 2009-01-02 to 2015-12-31\n",
      "Data columns (total 8 columns):\n",
      "price               177478 non-null int64\n",
      "saleablearea        177478 non-null int64\n",
      "grossarea           177478 non-null int64\n",
      "regioncode          177478 non-null int64\n",
      "floor               177478 non-null int64\n",
      "yearofcompletion    177478 non-null int64\n",
      "transaction_year    177478 non-null int64\n",
      "netPricePerSqf      177478 non-null int64\n",
      "dtypes: int64(8)\n",
      "memory usage: 12.2 MB\n"
     ]
    }
   ],
   "source": [
    "data_model.info()"
   ]
  },
  {
   "cell_type": "code",
   "execution_count": 7,
   "metadata": {
    "ExecuteTime": {
     "end_time": "2019-04-26T09:17:26.501246Z",
     "start_time": "2019-04-26T09:17:25.887595Z"
    }
   },
   "outputs": [
    {
     "data": {
      "text/plain": [
       "<matplotlib.axes._subplots.AxesSubplot at 0x146e9d248d0>"
      ]
     },
     "execution_count": 7,
     "metadata": {},
     "output_type": "execute_result"
    },
    {
     "data": {
      "image/png": "[encoded data removed]",
      "text/plain": [
       "<Figure size 432x288 with 1 Axes>"
      ]
     },
     "metadata": {
      "needs_background": "light"
     },
     "output_type": "display_data"
    }
   ],
   "source": [
    "sns.distplot(data_model['price'])"
   ]
  },
  {
   "cell_type": "code",
   "execution_count": 8,
   "metadata": {
    "ExecuteTime": {
     "end_time": "2019-04-26T09:17:27.077918Z",
     "start_time": "2019-04-26T09:17:26.505244Z"
    }
   },
   "outputs": [
    {
     "data": {
      "text/plain": [
       "<matplotlib.axes._subplots.AxesSubplot at 0x146e98d32e8>"
      ]
     },
     "execution_count": 8,
     "metadata": {},
     "output_type": "execute_result"
    },
    {
     "data": {
      "image/png": "[encoded data removed]",
      "text/plain": [
       "<Figure size 432x288 with 1 Axes>"
      ]
     },
     "metadata": {
      "needs_background": "light"
     },
     "output_type": "display_data"
    }
   ],
   "source": [
    "sns.distplot(data_model['netPricePerSqf'])"
   ]
  },
  {
   "cell_type": "code",
   "execution_count": 9,
   "metadata": {
    "ExecuteTime": {
     "end_time": "2019-04-26T09:17:28.215269Z",
     "start_time": "2019-04-26T09:17:27.083914Z"
    }
   },
   "outputs": [
    {
     "data": {
      "text/plain": [
       "<matplotlib.axes._subplots.AxesSubplot at 0x146e9bd4ac8>"
      ]
     },
     "execution_count": 9,
     "metadata": {},
     "output_type": "execute_result"
    },
    {
     "data": {
      "image/png": "[encoded data removed]",
      "text/plain": [
       "<Figure size 432x288 with 2 Axes>"
      ]
     },
     "metadata": {
      "needs_background": "light"
     },
     "output_type": "display_data"
    }
   ],
   "source": [
    "sns.heatmap(data_model.corr(),annot=True)"
   ]
  },
  {
   "cell_type": "markdown",
   "metadata": {},
   "source": [
    "# Developing a Model\n",
    "## Create a training set"
   ]
  },
  {
   "cell_type": "code",
   "execution_count": 10,
   "metadata": {
    "ExecuteTime": {
     "end_time": "2019-04-26T09:17:28.237258Z",
     "start_time": "2019-04-26T09:17:28.218267Z"
    }
   },
   "outputs": [],
   "source": [
    "# Create target object and call it y\n",
    "y_lr = data_model['price'].to_frame()\n",
    "\n",
    "# Model features\n",
    "X_lr = data_model.drop(['netPricePerSqf','grossarea','floor','regioncode','price','yearofcompletion'], axis = 1)"
   ]
  },
  {
   "cell_type": "code",
   "execution_count": 11,
   "metadata": {
    "ExecuteTime": {
     "end_time": "2019-04-26T09:17:28.332202Z",
     "start_time": "2019-04-26T09:17:28.243252Z"
    }
   },
   "outputs": [
    {
     "name": "stdout",
     "output_type": "stream",
     "text": [
      "Training and testing split was successful.\n"
     ]
    }
   ],
   "source": [
    "# Import 'train_test_split'\n",
    "from sklearn.model_selection import train_test_split\n",
    "\n",
    "# Shuffle and split the data into training and testing subsets\n",
    "train_X_lr, val_X_lr, train_y_lr, val_y_lr = train_test_split(X_lr, y_lr, test_size=0.3, random_state = 42)\n",
    "\n",
    "# Success\n",
    "print(\"Training and testing split was successful.\")"
   ]
  },
  {
   "cell_type": "markdown",
   "metadata": {},
   "source": [
    "## Linear Regression - Sklearn\n",
    "### Create the model"
   ]
  },
  {
   "cell_type": "code",
   "execution_count": 12,
   "metadata": {
    "ExecuteTime": {
     "end_time": "2019-04-26T09:17:28.476120Z",
     "start_time": "2019-04-26T09:17:28.340197Z"
    }
   },
   "outputs": [
    {
     "data": {
      "text/plain": [
       "LinearRegression(copy_X=True, fit_intercept=True, n_jobs=None,\n",
       "         normalize=False)"
      ]
     },
     "execution_count": 12,
     "metadata": {},
     "output_type": "execute_result"
    }
   ],
   "source": [
    "from sklearn.linear_model import LinearRegression\n",
    "\n",
    "# Create a linear regression model\n",
    "lm = LinearRegression()\n",
    "\n",
    "# Fit the model with the training data\n",
    "lm.fit(train_X_lr, train_y_lr)"
   ]
  },
  {
   "cell_type": "code",
   "execution_count": 13,
   "metadata": {
    "ExecuteTime": {
     "end_time": "2019-04-26T09:17:28.514097Z",
     "start_time": "2019-04-26T09:17:28.484114Z"
    }
   },
   "outputs": [
    {
     "name": "stdout",
     "output_type": "stream",
     "text": [
      "[-8.97172602e+08]\n"
     ]
    },
    {
     "data": {
      "text/html": [
       "<div>\n",
       "<style scoped>\n",
       "    .dataframe tbody tr th:only-of-type {\n",
       "        vertical-align: middle;\n",
       "    }\n",
       "\n",
       "    .dataframe tbody tr th {\n",
       "        vertical-align: top;\n",
       "    }\n",
       "\n",
       "    .dataframe thead th {\n",
       "        text-align: right;\n",
       "    }\n",
       "</style>\n",
       "<table border=\"1\" class=\"dataframe\">\n",
       "  <thead>\n",
       "    <tr style=\"text-align: right;\">\n",
       "      <th></th>\n",
       "      <th>Coeff by columns</th>\n",
       "    </tr>\n",
       "  </thead>\n",
       "  <tbody>\n",
       "    <tr>\n",
       "      <th>saleablearea</th>\n",
       "      <td>7019.397100</td>\n",
       "    </tr>\n",
       "    <tr>\n",
       "      <th>transaction_year</th>\n",
       "      <td>445819.041046</td>\n",
       "    </tr>\n",
       "  </tbody>\n",
       "</table>\n",
       "</div>"
      ],
      "text/plain": [
       "                  Coeff by columns\n",
       "saleablearea           7019.397100\n",
       "transaction_year     445819.041046"
      ]
     },
     "execution_count": 13,
     "metadata": {},
     "output_type": "execute_result"
    }
   ],
   "source": [
    "print(lm.intercept_)\n",
    "cdf = pd.DataFrame(lm.coef_.flatten(),X_lr.columns,columns=['Coeff by columns'])\n",
    "cdf"
   ]
  },
  {
   "cell_type": "code",
   "execution_count": 14,
   "metadata": {
    "ExecuteTime": {
     "end_time": "2019-04-26T09:17:28.539084Z",
     "start_time": "2019-04-26T09:17:28.519094Z"
    }
   },
   "outputs": [
    {
     "data": {
      "text/plain": [
       "array([[4739677],\n",
       "       [2106879],\n",
       "       [ 281836],\n",
       "       [2475484],\n",
       "       [1485749]])"
      ]
     },
     "execution_count": 14,
     "metadata": {},
     "output_type": "execute_result"
    }
   ],
   "source": [
    "# Predictions\n",
    "predictions_lr = lm.predict(val_X_lr)\n",
    "predictions_lr[:5].astype('int')"
   ]
  },
  {
   "cell_type": "code",
   "execution_count": 15,
   "metadata": {
    "ExecuteTime": {
     "end_time": "2019-04-26T09:17:28.568065Z",
     "start_time": "2019-04-26T09:17:28.551076Z"
    }
   },
   "outputs": [
    {
     "data": {
      "text/html": [
       "<div>\n",
       "<style scoped>\n",
       "    .dataframe tbody tr th:only-of-type {\n",
       "        vertical-align: middle;\n",
       "    }\n",
       "\n",
       "    .dataframe tbody tr th {\n",
       "        vertical-align: top;\n",
       "    }\n",
       "\n",
       "    .dataframe thead th {\n",
       "        text-align: right;\n",
       "    }\n",
       "</style>\n",
       "<table border=\"1\" class=\"dataframe\">\n",
       "  <thead>\n",
       "    <tr style=\"text-align: right;\">\n",
       "      <th></th>\n",
       "      <th>price</th>\n",
       "    </tr>\n",
       "    <tr>\n",
       "      <th>date</th>\n",
       "      <th></th>\n",
       "    </tr>\n",
       "  </thead>\n",
       "  <tbody>\n",
       "    <tr>\n",
       "      <th>2015-05-29</th>\n",
       "      <td>5860000</td>\n",
       "    </tr>\n",
       "    <tr>\n",
       "      <th>2009-08-20</th>\n",
       "      <td>2670000</td>\n",
       "    </tr>\n",
       "    <tr>\n",
       "      <th>2009-11-16</th>\n",
       "      <td>860000</td>\n",
       "    </tr>\n",
       "    <tr>\n",
       "      <th>2010-06-09</th>\n",
       "      <td>3200000</td>\n",
       "    </tr>\n",
       "    <tr>\n",
       "      <th>2010-02-09</th>\n",
       "      <td>1800000</td>\n",
       "    </tr>\n",
       "  </tbody>\n",
       "</table>\n",
       "</div>"
      ],
      "text/plain": [
       "              price\n",
       "date               \n",
       "2015-05-29  5860000\n",
       "2009-08-20  2670000\n",
       "2009-11-16   860000\n",
       "2010-06-09  3200000\n",
       "2010-02-09  1800000"
      ]
     },
     "execution_count": 15,
     "metadata": {},
     "output_type": "execute_result"
    }
   ],
   "source": [
    "# real values\n",
    "val_y_lr.head()"
   ]
  },
  {
   "cell_type": "code",
   "execution_count": 16,
   "metadata": {
    "ExecuteTime": {
     "end_time": "2019-04-26T09:17:30.106190Z",
     "start_time": "2019-04-26T09:17:28.582057Z"
    }
   },
   "outputs": [
    {
     "data": {
      "text/plain": [
       "Text(0, 0.5, 'Predicted Values')"
      ]
     },
     "execution_count": 16,
     "metadata": {},
     "output_type": "execute_result"
    },
    {
     "data": {
      "image/png": "[encoded data removed]",
      "text/plain": [
       "<Figure size 432x288 with 1 Axes>"
      ]
     },
     "metadata": {
      "needs_background": "light"
     },
     "output_type": "display_data"
    }
   ],
   "source": [
    "plt.scatter(val_y_lr,predictions_lr)\n",
    "plt.xlabel('Y Test (True Values)')\n",
    "plt.ylabel('Predicted Values')"
   ]
  },
  {
   "cell_type": "code",
   "execution_count": 17,
   "metadata": {
    "ExecuteTime": {
     "end_time": "2019-04-26T09:17:30.689858Z",
     "start_time": "2019-04-26T09:17:30.111186Z"
    },
    "scrolled": true
   },
   "outputs": [
    {
     "data": {
      "text/plain": [
       "<matplotlib.axes._subplots.AxesSubplot at 0x146ebe6b780>"
      ]
     },
     "execution_count": 17,
     "metadata": {},
     "output_type": "execute_result"
    },
    {
     "data": {
      "image/png": "[encoded data removed]",
      "text/plain": [
       "<Figure size 432x288 with 1 Axes>"
      ]
     },
     "metadata": {
      "needs_background": "light"
     },
     "output_type": "display_data"
    }
   ],
   "source": [
    "# Residuals\n",
    "sns.distplot(val_y_lr-predictions_lr)"
   ]
  },
  {
   "cell_type": "markdown",
   "metadata": {},
   "source": [
    "### Evaluating the model"
   ]
  },
  {
   "cell_type": "code",
   "execution_count": 18,
   "metadata": {
    "ExecuteTime": {
     "end_time": "2019-04-26T09:17:30.743826Z",
     "start_time": "2019-04-26T09:17:30.711842Z"
    }
   },
   "outputs": [
    {
     "name": "stdout",
     "output_type": "stream",
     "text": [
      "mean absolute error:  718430\n",
      "mean squared error:  -2147483648\n",
      "root mean squared error: 956742\n"
     ]
    }
   ],
   "source": [
    "from sklearn import metrics\n",
    "print('mean absolute error: ',metrics.mean_absolute_error(val_y_lr,predictions_lr).astype('int'))\n",
    "print('mean squared error: ',metrics.mean_squared_error(val_y_lr,predictions_lr).astype('int'))\n",
    "print('root mean squared error:',np.sqrt(metrics.mean_squared_error(val_y_lr,predictions_lr)).astype('int'))"
   ]
  },
  {
   "cell_type": "code",
   "execution_count": 19,
   "metadata": {
    "ExecuteTime": {
     "end_time": "2019-04-26T09:17:30.774806Z",
     "start_time": "2019-04-26T09:17:30.753820Z"
    }
   },
   "outputs": [
    {
     "data": {
      "text/plain": [
       "0.6863"
      ]
     },
     "execution_count": 19,
     "metadata": {},
     "output_type": "execute_result"
    }
   ],
   "source": [
    "metrics.explained_variance_score(val_y_lr,predictions_lr).round(4)"
   ]
  },
  {
   "cell_type": "markdown",
   "metadata": {},
   "source": [
    "## DecisionTreeRegressor\n",
    "### Create the model"
   ]
  },
  {
   "cell_type": "code",
   "execution_count": 20,
   "metadata": {
    "ExecuteTime": {
     "end_time": "2019-04-26T09:17:30.791797Z",
     "start_time": "2019-04-26T09:17:30.782802Z"
    }
   },
   "outputs": [],
   "source": [
    "from sklearn.tree import DecisionTreeRegressor\n",
    "from sklearn.metrics import mean_absolute_error\n",
    "from sklearn.model_selection import train_test_split"
   ]
  },
  {
   "cell_type": "code",
   "execution_count": 21,
   "metadata": {
    "ExecuteTime": {
     "end_time": "2019-04-26T09:17:30.840770Z",
     "start_time": "2019-04-26T09:17:30.797793Z"
    }
   },
   "outputs": [
    {
     "name": "stdout",
     "output_type": "stream",
     "text": [
      "<class 'numpy.ndarray'>\n"
     ]
    }
   ],
   "source": [
    "# Create target object and call it y\n",
    "y = data_model['price'].values\n",
    "print(type(y))\n",
    "\n",
    "# Model features\n",
    "X = data_model.drop('price', axis = 1).drop('netPricePerSqf', axis = 1)"
   ]
  },
  {
   "cell_type": "code",
   "execution_count": 22,
   "metadata": {
    "ExecuteTime": {
     "end_time": "2019-04-26T09:17:30.876749Z",
     "start_time": "2019-04-26T09:17:30.845766Z"
    }
   },
   "outputs": [
    {
     "data": {
      "text/html": [
       "<div>\n",
       "<style scoped>\n",
       "    .dataframe tbody tr th:only-of-type {\n",
       "        vertical-align: middle;\n",
       "    }\n",
       "\n",
       "    .dataframe tbody tr th {\n",
       "        vertical-align: top;\n",
       "    }\n",
       "\n",
       "    .dataframe thead th {\n",
       "        text-align: right;\n",
       "    }\n",
       "</style>\n",
       "<table border=\"1\" class=\"dataframe\">\n",
       "  <thead>\n",
       "    <tr style=\"text-align: right;\">\n",
       "      <th></th>\n",
       "      <th>saleablearea</th>\n",
       "      <th>grossarea</th>\n",
       "      <th>regioncode</th>\n",
       "      <th>floor</th>\n",
       "      <th>yearofcompletion</th>\n",
       "      <th>transaction_year</th>\n",
       "    </tr>\n",
       "    <tr>\n",
       "      <th>date</th>\n",
       "      <th></th>\n",
       "      <th></th>\n",
       "      <th></th>\n",
       "      <th></th>\n",
       "      <th></th>\n",
       "      <th></th>\n",
       "    </tr>\n",
       "  </thead>\n",
       "  <tbody>\n",
       "    <tr>\n",
       "      <th>2009-01-02</th>\n",
       "      <td>386</td>\n",
       "      <td>480</td>\n",
       "      <td>216</td>\n",
       "      <td>22</td>\n",
       "      <td>1977</td>\n",
       "      <td>2009</td>\n",
       "    </tr>\n",
       "    <tr>\n",
       "      <th>2009-01-02</th>\n",
       "      <td>874</td>\n",
       "      <td>1175</td>\n",
       "      <td>408</td>\n",
       "      <td>32</td>\n",
       "      <td>2002</td>\n",
       "      <td>2009</td>\n",
       "    </tr>\n",
       "    <tr>\n",
       "      <th>2009-01-02</th>\n",
       "      <td>508</td>\n",
       "      <td>642</td>\n",
       "      <td>402</td>\n",
       "      <td>12</td>\n",
       "      <td>1998</td>\n",
       "      <td>2009</td>\n",
       "    </tr>\n",
       "    <tr>\n",
       "      <th>2009-01-02</th>\n",
       "      <td>410</td>\n",
       "      <td>539</td>\n",
       "      <td>307</td>\n",
       "      <td>24</td>\n",
       "      <td>1991</td>\n",
       "      <td>2009</td>\n",
       "    </tr>\n",
       "    <tr>\n",
       "      <th>2009-01-02</th>\n",
       "      <td>467</td>\n",
       "      <td>599</td>\n",
       "      <td>406</td>\n",
       "      <td>6</td>\n",
       "      <td>1989</td>\n",
       "      <td>2009</td>\n",
       "    </tr>\n",
       "  </tbody>\n",
       "</table>\n",
       "</div>"
      ],
      "text/plain": [
       "            saleablearea  grossarea  regioncode  floor  yearofcompletion  \\\n",
       "date                                                                       \n",
       "2009-01-02           386        480         216     22              1977   \n",
       "2009-01-02           874       1175         408     32              2002   \n",
       "2009-01-02           508        642         402     12              1998   \n",
       "2009-01-02           410        539         307     24              1991   \n",
       "2009-01-02           467        599         406      6              1989   \n",
       "\n",
       "            transaction_year  \n",
       "date                          \n",
       "2009-01-02              2009  \n",
       "2009-01-02              2009  \n",
       "2009-01-02              2009  \n",
       "2009-01-02              2009  \n",
       "2009-01-02              2009  "
      ]
     },
     "execution_count": 22,
     "metadata": {},
     "output_type": "execute_result"
    }
   ],
   "source": [
    "X.head()"
   ]
  },
  {
   "cell_type": "code",
   "execution_count": 23,
   "metadata": {
    "ExecuteTime": {
     "end_time": "2019-04-26T09:17:30.953705Z",
     "start_time": "2019-04-26T09:17:30.881745Z"
    }
   },
   "outputs": [
    {
     "name": "stdout",
     "output_type": "stream",
     "text": [
      "Training and testing split was successful.\n"
     ]
    }
   ],
   "source": [
    "# Import 'train_test_split'\n",
    "from sklearn.model_selection import train_test_split\n",
    "\n",
    "# Shuffle and split the data into training and testing subsets\n",
    "train_X, val_X, train_y, val_y = train_test_split(X, y, test_size=0.3, random_state = 42)\n",
    "\n",
    "# Success\n",
    "print(\"Training and testing split was successful.\")"
   ]
  },
  {
   "cell_type": "markdown",
   "metadata": {},
   "source": [
    "### Find the optimal model depth"
   ]
  },
  {
   "cell_type": "code",
   "execution_count": 24,
   "metadata": {
    "ExecuteTime": {
     "end_time": "2019-04-26T09:17:39.106049Z",
     "start_time": "2019-04-26T09:17:30.964697Z"
    }
   },
   "outputs": [
    {
     "name": "stdout",
     "output_type": "stream",
     "text": [
      "Max leaf nodes: 50  \t\t Mean Absolute Error:  548339\n",
      "Max leaf nodes: 100  \t\t Mean Absolute Error:  494314\n",
      "Max leaf nodes: 500  \t\t Mean Absolute Error:  381063\n",
      "Max leaf nodes: 1000  \t\t Mean Absolute Error:  337495\n",
      "Max leaf nodes: 5000  \t\t Mean Absolute Error:  274055\n",
      "Max leaf nodes: 10000  \t\t Mean Absolute Error:  267964\n",
      "Max leaf nodes: 15000  \t\t Mean Absolute Error:  271604\n",
      "Max leaf nodes: 20000  \t\t Mean Absolute Error:  276022\n",
      "Max leaf nodes: 25000  \t\t Mean Absolute Error:  279845\n",
      "Max leaf nodes: 30000  \t\t Mean Absolute Error:  283253\n"
     ]
    }
   ],
   "source": [
    "from sklearn.metrics import mean_absolute_error\n",
    "\n",
    "for max_leaf_nodes in [50,100, 500, 1000,5000,10000,15000,20000,25000,30000]:\n",
    "    my_mae = vs.get_mae(max_leaf_nodes, train_X, val_X, train_y, val_y)\n",
    "    print(\"Max leaf nodes: %d  \\t\\t Mean Absolute Error:  %d\" %(max_leaf_nodes, my_mae))"
   ]
  },
  {
   "cell_type": "code",
   "execution_count": 25,
   "metadata": {
    "ExecuteTime": {
     "end_time": "2019-04-26T09:18:38.321977Z",
     "start_time": "2019-04-26T09:17:39.118042Z"
    }
   },
   "outputs": [
    {
     "data": {
      "image/png": "[encoded data removed]",
      "text/plain": [
       "<Figure size 720x504 with 4 Axes>"
      ]
     },
     "metadata": {
      "needs_background": "light"
     },
     "output_type": "display_data"
    }
   ],
   "source": [
    "# Produce learning curves for varying training set sizes and maximum depths\n",
    "vs.ModelLearning(train_X, train_y)"
   ]
  },
  {
   "cell_type": "code",
   "execution_count": 26,
   "metadata": {
    "ExecuteTime": {
     "end_time": "2019-04-26T09:19:28.777274Z",
     "start_time": "2019-04-26T09:18:38.325972Z"
    }
   },
   "outputs": [],
   "source": [
    "# vs.ModelComplexity(train_X, train_y)"
   ]
  },
  {
   "cell_type": "markdown",
   "metadata": {},
   "source": [
    "### Without specifying the maximum number of nodes"
   ]
  },
  {
   "cell_type": "code",
   "execution_count": 27,
   "metadata": {
    "ExecuteTime": {
     "end_time": "2019-04-26T09:20:27.017023Z",
     "start_time": "2019-04-26T09:19:28.784272Z"
    }
   },
   "outputs": [
    {
     "name": "stdout",
     "output_type": "stream",
     "text": [
      "Parameter 'max_depth' is 10000 for the optimal model.\n"
     ]
    }
   ],
   "source": [
    "# Fit the training data to the model using grid search\n",
    "reg_DecisionTreeRegressor = fit_model_DecisionTreeRegressor(train_X, train_y)\n",
    "\n",
    "# Produce the value for 'max_depth'\n",
    "print(\"Parameter 'max_depth' is {} for the optimal model.\".format(reg_DecisionTreeRegressor.get_params()['max_depth']))"
   ]
  },
  {
   "cell_type": "code",
   "execution_count": 28,
   "metadata": {
    "ExecuteTime": {
     "end_time": "2019-04-26T09:20:29.151325Z",
     "start_time": "2019-04-26T09:20:27.023022Z"
    }
   },
   "outputs": [
    {
     "name": "stdout",
     "output_type": "stream",
     "text": [
      "Validation Mean Absolute Error when not specifying max_leaf_nodes:  300900\n",
      "mean squared error:  -2147483648\n",
      "root mean squared error: 463732\n"
     ]
    }
   ],
   "source": [
    "# Define the model\n",
    "dt_model = DecisionTreeRegressor(random_state=1)\n",
    "\n",
    "# fit the model\n",
    "dt_model.fit(train_X, train_y)\n",
    "\n",
    "# Make validation predictions and calculate mean absolute error\n",
    "val_predictions = dt_model.predict(val_X)\n",
    "print(\"Validation Mean Absolute Error when not specifying max_leaf_nodes: \",metrics.mean_absolute_error(val_y,val_predictions).astype('int'))\n",
    "print('mean squared error: ',metrics.mean_squared_error(val_y_lr,val_predictions).astype('int'))\n",
    "print('root mean squared error:',np.sqrt(metrics.mean_squared_error(val_y_lr,val_predictions)).astype('int'))"
   ]
  },
  {
   "cell_type": "markdown",
   "metadata": {},
   "source": [
    "### Specifying the maximum number of nodes - Bias Variance Trade-off"
   ]
  },
  {
   "cell_type": "code",
   "execution_count": null,
   "metadata": {},
   "outputs": [],
   "source": [
    "# Fit the training data to the model using grid search\n",
    "reg_DecisionTreeRegressor_max_leaf = fit_model_DecisionTreeRegressor_max_leaf(train_X, train_y)\n",
    "\n",
    "# Produce the value for 'max_depth'\n",
    "print(\"Parameter 'max_depth' is {} for the optimal model.\".format(reg_DecisionTreeRegressor_max_leaf.get_params()['max_depth']))"
   ]
  },
  {
   "cell_type": "code",
   "execution_count": 29,
   "metadata": {
    "ExecuteTime": {
     "end_time": "2019-04-26T09:20:31.980708Z",
     "start_time": "2019-04-26T09:20:29.158321Z"
    }
   },
   "outputs": [
    {
     "name": "stdout",
     "output_type": "stream",
     "text": [
      "Validation Mean Absolute Error when specifying max_leaf_nodes:  268212\n",
      "mean squared error:  -2147483648\n",
      "root mean squared error: 425943\n"
     ]
    }
   ],
   "source": [
    "# Using best value for max_leaf_nodes\n",
    "dt_model_max_leaf_nodes = DecisionTreeRegressor(max_leaf_nodes=10000,random_state=1)\n",
    "\n",
    "# fit the model\n",
    "dt_model_max_leaf_nodes.fit(train_X, train_y)\n",
    "\n",
    "val_predictions_max_leaf_nodes = dt_model_max_leaf_nodes.predict(val_X)\n",
    "\n",
    "# Calculate the performance of the model on the validation data\n",
    "print(\"Validation Mean Absolute Error when specifying max_leaf_nodes: \",metrics.mean_absolute_error(val_y,val_predictions_max_leaf_nodes).astype('int'))\n",
    "print('mean squared error: ',metrics.mean_squared_error(val_y,val_predictions_max_leaf_nodes).astype('int'))\n",
    "print('root mean squared error:',np.sqrt(metrics.mean_squared_error(val_y,val_predictions_max_leaf_nodes)).astype('int'))"
   ]
  },
  {
   "cell_type": "code",
   "execution_count": 30,
   "metadata": {
    "ExecuteTime": {
     "end_time": "2019-04-26T09:20:32.143616Z",
     "start_time": "2019-04-26T09:20:32.028681Z"
    }
   },
   "outputs": [],
   "source": [
    "# Make validation predictions\n",
    "val_predictions_max_leaf_nodes = dt_model_max_leaf_nodes.predict(val_X)"
   ]
  },
  {
   "cell_type": "markdown",
   "metadata": {},
   "source": [
    "#### Predicting Selling Prices"
   ]
  },
  {
   "cell_type": "code",
   "execution_count": 31,
   "metadata": {
    "ExecuteTime": {
     "end_time": "2019-04-26T09:20:32.176600Z",
     "start_time": "2019-04-26T09:20:32.157608Z"
    }
   },
   "outputs": [
    {
     "data": {
      "text/plain": [
       "Index(['saleablearea', 'grossarea', 'regioncode', 'floor', 'yearofcompletion',\n",
       "       'transaction_year'],\n",
       "      dtype='object')"
      ]
     },
     "execution_count": 31,
     "metadata": {},
     "output_type": "execute_result"
    }
   ],
   "source": [
    "train_X.columns"
   ]
  },
  {
   "cell_type": "code",
   "execution_count": 32,
   "metadata": {
    "ExecuteTime": {
     "end_time": "2019-04-26T09:20:32.227573Z",
     "start_time": "2019-04-26T09:20:32.193597Z"
    }
   },
   "outputs": [
    {
     "data": {
      "text/html": [
       "<div>\n",
       "<style scoped>\n",
       "    .dataframe tbody tr th:only-of-type {\n",
       "        vertical-align: middle;\n",
       "    }\n",
       "\n",
       "    .dataframe tbody tr th {\n",
       "        vertical-align: top;\n",
       "    }\n",
       "\n",
       "    .dataframe thead th {\n",
       "        text-align: right;\n",
       "    }\n",
       "</style>\n",
       "<table border=\"1\" class=\"dataframe\">\n",
       "  <thead>\n",
       "    <tr style=\"text-align: right;\">\n",
       "      <th></th>\n",
       "      <th>saleablearea</th>\n",
       "      <th>grossarea</th>\n",
       "      <th>regioncode</th>\n",
       "      <th>floor</th>\n",
       "      <th>yearofcompletion</th>\n",
       "      <th>transaction_year</th>\n",
       "    </tr>\n",
       "    <tr>\n",
       "      <th>date</th>\n",
       "      <th></th>\n",
       "      <th></th>\n",
       "      <th></th>\n",
       "      <th></th>\n",
       "      <th></th>\n",
       "      <th></th>\n",
       "    </tr>\n",
       "  </thead>\n",
       "  <tbody>\n",
       "    <tr>\n",
       "      <th>2013-01-09</th>\n",
       "      <td>722</td>\n",
       "      <td>904</td>\n",
       "      <td>302</td>\n",
       "      <td>26</td>\n",
       "      <td>1987</td>\n",
       "      <td>2013</td>\n",
       "    </tr>\n",
       "    <tr>\n",
       "      <th>2011-06-16</th>\n",
       "      <td>394</td>\n",
       "      <td>526</td>\n",
       "      <td>308</td>\n",
       "      <td>23</td>\n",
       "      <td>1985</td>\n",
       "      <td>2011</td>\n",
       "    </tr>\n",
       "    <tr>\n",
       "      <th>2009-06-17</th>\n",
       "      <td>393</td>\n",
       "      <td>526</td>\n",
       "      <td>302</td>\n",
       "      <td>38</td>\n",
       "      <td>2001</td>\n",
       "      <td>2009</td>\n",
       "    </tr>\n",
       "    <tr>\n",
       "      <th>2012-05-04</th>\n",
       "      <td>747</td>\n",
       "      <td>943</td>\n",
       "      <td>409</td>\n",
       "      <td>5</td>\n",
       "      <td>1994</td>\n",
       "      <td>2012</td>\n",
       "    </tr>\n",
       "    <tr>\n",
       "      <th>2012-07-19</th>\n",
       "      <td>350</td>\n",
       "      <td>454</td>\n",
       "      <td>217</td>\n",
       "      <td>6</td>\n",
       "      <td>1966</td>\n",
       "      <td>2012</td>\n",
       "    </tr>\n",
       "  </tbody>\n",
       "</table>\n",
       "</div>"
      ],
      "text/plain": [
       "            saleablearea  grossarea  regioncode  floor  yearofcompletion  \\\n",
       "date                                                                       \n",
       "2013-01-09           722        904         302     26              1987   \n",
       "2011-06-16           394        526         308     23              1985   \n",
       "2009-06-17           393        526         302     38              2001   \n",
       "2012-05-04           747        943         409      5              1994   \n",
       "2012-07-19           350        454         217      6              1966   \n",
       "\n",
       "            transaction_year  \n",
       "date                          \n",
       "2013-01-09              2013  \n",
       "2011-06-16              2011  \n",
       "2009-06-17              2009  \n",
       "2012-05-04              2012  \n",
       "2012-07-19              2012  "
      ]
     },
     "execution_count": 32,
     "metadata": {},
     "output_type": "execute_result"
    }
   ],
   "source": [
    "train_X.head()"
   ]
  },
  {
   "cell_type": "code",
   "execution_count": 33,
   "metadata": {
    "ExecuteTime": {
     "end_time": "2019-04-26T09:20:32.251555Z",
     "start_time": "2019-04-26T09:20:32.234564Z"
    },
    "scrolled": true
   },
   "outputs": [
    {
     "name": "stdout",
     "output_type": "stream",
     "text": [
      "Predicted selling price for Client 1's home: $7,880,000.00\n",
      "Predicted selling price for Client 2's home: $2,000,000.00\n",
      "Predicted selling price for Client 3's home: $2,500,000.00\n"
     ]
    }
   ],
   "source": [
    "# Produce a matrix of fictionnal flats\n",
    "client_data = [[722,904,302,26,1987,2013], # Client 1\n",
    "               [394,526,308,23,1985,2011], # Client 2\n",
    "               [393,526,302,38,2001,2009]]  # Client 3\n",
    "\n",
    "# Show predictions\n",
    "for i, price in enumerate(reg.predict(client_data)):\n",
    "    print(\"Predicted selling price for Client {}'s home: ${:,.2f}\".format(i+1, price))"
   ]
  },
  {
   "cell_type": "code",
   "execution_count": 35,
   "metadata": {
    "ExecuteTime": {
     "end_time": "2019-04-26T09:27:38.067961Z",
     "start_time": "2019-04-26T09:20:32.285536Z"
    },
    "scrolled": false
   },
   "outputs": [
    {
     "name": "stdout",
     "output_type": "stream",
     "text": [
      "Trial 1: $7,278,779.34\n",
      "Trial 2: $6,027,026.02\n",
      "Trial 3: $5,950,769.23\n",
      "Trial 4: $6,469,090.91\n",
      "Trial 5: $5,640,221.61\n",
      "Trial 6: $7,051,691.73\n",
      "Trial 7: $6,630,952.38\n",
      "Trial 8: $6,575,454.55\n",
      "Trial 9: $6,608,636.36\n",
      "Trial 10: $6,495,000.00\n",
      "\n",
      "Range in prices: $1,638,557.74\n"
     ]
    }
   ],
   "source": [
    "vs.PredictTrials(X, y, vs.fit_model_DecisionTreeRegressor, client_data)"
   ]
  },
  {
   "cell_type": "code",
   "execution_count": 36,
   "metadata": {
    "ExecuteTime": {
     "end_time": "2019-04-26T09:27:38.092947Z",
     "start_time": "2019-04-26T09:27:38.075956Z"
    }
   },
   "outputs": [
    {
     "data": {
      "text/plain": [
       "2610000"
      ]
     },
     "execution_count": 36,
     "metadata": {},
     "output_type": "execute_result"
    }
   ],
   "source": [
    "int(data_model.price.median())"
   ]
  },
  {
   "cell_type": "markdown",
   "metadata": {},
   "source": [
    "## Random Forest"
   ]
  },
  {
   "cell_type": "code",
   "execution_count": 37,
   "metadata": {
    "ExecuteTime": {
     "end_time": "2019-04-26T09:27:38.145916Z",
     "start_time": "2019-04-26T09:27:38.099942Z"
    }
   },
   "outputs": [],
   "source": [
    "from sklearn.ensemble import RandomForestRegressor"
   ]
  },
  {
   "cell_type": "code",
   "execution_count": 38,
   "metadata": {
    "ExecuteTime": {
     "end_time": "2019-04-26T09:27:45.527701Z",
     "start_time": "2019-04-26T09:27:38.149914Z"
    }
   },
   "outputs": [
    {
     "name": "stdout",
     "output_type": "stream",
     "text": [
      "Validation Mean Absolute Error:  251752\n",
      "mean squared error:  -2147483648\n",
      "root mean squared error: 374553\n"
     ]
    }
   ],
   "source": [
    "# Define the model. Set random_state to 1\n",
    "rf_model = RandomForestRegressor(random_state=0)\n",
    "\n",
    "# fit the model\n",
    "rf_model.fit(train_X, train_y)\n",
    "\n",
    "rf_val_predictions = rf_model.predict(val_X)\n",
    "\n",
    "# Calculate the performance of the model on the validation data\n",
    "print(\"Validation Mean Absolute Error: \",mean_absolute_error(val_y,rf_val_predictions).astype('int'))\n",
    "print('mean squared error: ',metrics.mean_squared_error(val_y,rf_val_predictions).astype('int'))\n",
    "print('root mean squared error:',np.sqrt(metrics.mean_squared_error(val_y,rf_val_predictions)).astype('int'))"
   ]
  },
  {
   "cell_type": "code",
   "execution_count": 40,
   "metadata": {
    "ExecuteTime": {
     "end_time": "2019-04-26T09:27:45.577673Z",
     "start_time": "2019-04-26T09:27:45.556685Z"
    }
   },
   "outputs": [],
   "source": [
    "def PredictTrials(X, y, fitter, data):\n",
    "    \"\"\" Performs trials of fitting and predicting data. \"\"\"\n",
    "\n",
    "    # Store the predicted prices\n",
    "    prices = []\n",
    "\n",
    "    for k in range(10):\n",
    "        # Split the data\n",
    "        X_train, X_test, y_train, y_test = train_test_split(X, y, \\\n",
    "            test_size = 0.2, random_state = k)\n",
    "\n",
    "        # Fit the data\n",
    "        reg = fitter(X_train, y_train)\n",
    "\n",
    "        # Make a prediction\n",
    "        pred = reg.predict([data[0]])[0]\n",
    "        prices.append(pred)\n",
    "\n",
    "        # Result\n",
    "        print(\"Trial {}: ${:,.2f}\".format(k+1, pred))\n",
    "\n",
    "    # Display price range\n",
    "    print(\"\\nRange in prices: ${:,.2f}\".format(max(prices) - min(prices)))\n"
   ]
  },
  {
   "cell_type": "code",
   "execution_count": 41,
   "metadata": {
    "ExecuteTime": {
     "end_time": "2019-04-26T10:00:13.769203Z",
     "start_time": "2019-04-26T09:27:45.582671Z"
    }
   },
   "outputs": [
    {
     "name": "stdout",
     "output_type": "stream",
     "text": [
      "Trial 1: $6,544,621.26\n",
      "Trial 2: $6,435,645.49\n",
      "Trial 3: $6,570,147.39\n",
      "Trial 4: $6,645,710.99\n",
      "Trial 5: $6,453,315.91\n",
      "Trial 6: $6,566,992.00\n",
      "Trial 7: $6,947,129.85\n",
      "Trial 8: $6,440,541.72\n",
      "Trial 9: $6,379,343.69\n",
      "Trial 10: $6,623,853.40\n",
      "\n",
      "Range in prices: $567,786.16\n"
     ]
    }
   ],
   "source": [
    "PredictTrials(X, y, vs.fit_model_RandomForestRegressor, client_data)"
   ]
  }
 ],
 "metadata": {
  "kernelspec": {
   "display_name": "Python 3",
   "language": "python",
   "name": "python3"
  },
  "language_info": {
   "codemirror_mode": {
    "name": "ipython",
    "version": 3
   },
   "file_extension": ".py",
   "mimetype": "text/x-python",
   "name": "python",
   "nbconvert_exporter": "python",
   "pygments_lexer": "ipython3",
   "version": "3.7.1"
  },
  "toc": {
   "base_numbering": 1,
   "nav_menu": {},
   "number_sections": true,
   "sideBar": true,
   "skip_h1_title": false,
   "title_cell": "Table of Contents",
   "title_sidebar": "Contents",
   "toc_cell": true,
   "toc_position": {
    "height": "calc(100% - 180px)",
    "left": "10px",
    "top": "150px",
    "width": "303.431px"
   },
   "toc_section_display": true,
   "toc_window_display": true
  }
 },
 "nbformat": 4,
 "nbformat_minor": 2
}
