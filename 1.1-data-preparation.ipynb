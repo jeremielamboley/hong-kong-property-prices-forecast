{
 "cells": [
  {
   "cell_type": "markdown",
   "metadata": {
    "toc": true
   },
   "source": [
    "<h1>Table of Contents<span class=\"tocSkip\"></span></h1>\n",
    "<div class=\"toc\"><ul class=\"toc-item\"><li><span><a href=\"#Prepare-the-data\" data-toc-modified-id=\"Prepare-the-data-1\"><span class=\"toc-item-num\">1&nbsp;&nbsp;</span>Prepare the data</a></span><ul class=\"toc-item\"><li><span><a href=\"#Raw-data\" data-toc-modified-id=\"Raw-data-1.1\"><span class=\"toc-item-num\">1.1&nbsp;&nbsp;</span>Raw data</a></span><ul class=\"toc-item\"><li><span><a href=\"#Load\" data-toc-modified-id=\"Load-1.1.1\"><span class=\"toc-item-num\">1.1.1&nbsp;&nbsp;</span>Load</a></span></li><li><span><a href=\"#Extract-the-unit-floor\" data-toc-modified-id=\"Extract-the-unit-floor-1.1.2\"><span class=\"toc-item-num\">1.1.2&nbsp;&nbsp;</span>Extract the unit floor</a></span></li><li><span><a href=\"#Keep-only-the-relevant-data\" data-toc-modified-id=\"Keep-only-the-relevant-data-1.1.3\"><span class=\"toc-item-num\">1.1.3&nbsp;&nbsp;</span>Keep only the relevant data</a></span></li><li><span><a href=\"#Create-a-'transaction_year'-column\" data-toc-modified-id=\"Create-a-'transaction_year'-column-1.1.4\"><span class=\"toc-item-num\">1.1.4&nbsp;&nbsp;</span>Create a 'transaction_year' column</a></span></li><li><span><a href=\"#Convert-to-datetime\" data-toc-modified-id=\"Convert-to-datetime-1.1.5\"><span class=\"toc-item-num\">1.1.5&nbsp;&nbsp;</span>Convert to datetime</a></span></li><li><span><a href=\"#Convert-string-column-region-to-lowercase\" data-toc-modified-id=\"Convert-string-column-region-to-lowercase-1.1.6\"><span class=\"toc-item-num\">1.1.6&nbsp;&nbsp;</span>Convert string column region to lowercase</a></span></li><li><span><a href=\"#Correct-typo-on-the-district-name-'Hung-Hum'\" data-toc-modified-id=\"Correct-typo-on-the-district-name-'Hung-Hum'-1.1.7\"><span class=\"toc-item-num\">1.1.7&nbsp;&nbsp;</span>Correct typo on the district name 'Hung Hum'</a></span></li><li><span><a href=\"#Fill-the-empty-cells\" data-toc-modified-id=\"Fill-the-empty-cells-1.1.8\"><span class=\"toc-item-num\">1.1.8&nbsp;&nbsp;</span>Fill the empty cells</a></span></li><li><span><a href=\"#Calculate-the-netPricePerSqf,-resampled-and-normalized\" data-toc-modified-id=\"Calculate-the-netPricePerSqf,-resampled-and-normalized-1.1.9\"><span class=\"toc-item-num\">1.1.9&nbsp;&nbsp;</span>Calculate the netPricePerSqf, resampled and normalized</a></span></li><li><span><a href=\"#Check-the-output\" data-toc-modified-id=\"Check-the-output-1.1.10\"><span class=\"toc-item-num\">1.1.10&nbsp;&nbsp;</span>Check the output</a></span></li></ul></li><li><span><a href=\"#Supplementary-data\" data-toc-modified-id=\"Supplementary-data-1.2\"><span class=\"toc-item-num\">1.2&nbsp;&nbsp;</span>Supplementary data</a></span><ul class=\"toc-item\"><li><span><a href=\"#Hong-Kong-regions\" data-toc-modified-id=\"Hong-Kong-regions-1.2.1\"><span class=\"toc-item-num\">1.2.1&nbsp;&nbsp;</span>Hong Kong regions</a></span></li><li><span><a href=\"#HANG-SENG-INDEX\" data-toc-modified-id=\"HANG-SENG-INDEX-1.2.2\"><span class=\"toc-item-num\">1.2.2&nbsp;&nbsp;</span>HANG SENG INDEX</a></span></li><li><span><a href=\"#Hong-Kong-GDP\" data-toc-modified-id=\"Hong-Kong-GDP-1.2.3\"><span class=\"toc-item-num\">1.2.3&nbsp;&nbsp;</span>Hong Kong GDP</a></span></li></ul></li><li><span><a href=\"#Export-the-processed-data\" data-toc-modified-id=\"Export-the-processed-data-1.3\"><span class=\"toc-item-num\">1.3&nbsp;&nbsp;</span>Export the processed data</a></span><ul class=\"toc-item\"><li><span><a href=\"#For-the-visualizations:-join-the-3-datasets\" data-toc-modified-id=\"For-the-visualizations:-join-the-3-datasets-1.3.1\"><span class=\"toc-item-num\">1.3.1&nbsp;&nbsp;</span>For the visualizations: join the 3 datasets</a></span><ul class=\"toc-item\"><li><span><a href=\"#Absolute-values\" data-toc-modified-id=\"Absolute-values-1.3.1.1\"><span class=\"toc-item-num\">1.3.1.1&nbsp;&nbsp;</span>Absolute values</a></span></li><li><span><a href=\"#Normalized-data,-base-100\" data-toc-modified-id=\"Normalized-data,-base-100-1.3.1.2\"><span class=\"toc-item-num\">1.3.1.2&nbsp;&nbsp;</span>Normalized data, base 100</a></span></li></ul></li><li><span><a href=\"#For-modeling\" data-toc-modified-id=\"For-modeling-1.3.2\"><span class=\"toc-item-num\">1.3.2&nbsp;&nbsp;</span>For modeling</a></span></li></ul></li></ul></li></ul></div>"
   ]
  },
  {
   "cell_type": "code",
   "execution_count": 1,
   "metadata": {
    "ExecuteTime": {
     "end_time": "2019-04-17T09:00:24.922353Z",
     "start_time": "2019-04-17T09:00:22.769565Z"
    }
   },
   "outputs": [],
   "source": [
    "# Import libraries necessary for this project\n",
    "import sqlite3\n",
    "import numpy as np\n",
    "import pandas as pd\n",
    "from pandas_datareader import data\n",
    "import os\n",
    "import datetime\n",
    "import re"
   ]
  },
  {
   "cell_type": "markdown",
   "metadata": {},
   "source": [
    "# Prepare the data"
   ]
  },
  {
   "cell_type": "markdown",
   "metadata": {},
   "source": [
    "## Raw data"
   ]
  },
  {
   "cell_type": "markdown",
   "metadata": {},
   "source": [
    "### Load"
   ]
  },
  {
   "cell_type": "code",
   "execution_count": 2,
   "metadata": {
    "ExecuteTime": {
     "end_time": "2019-04-17T09:02:20.579680Z",
     "start_time": "2019-04-17T09:00:24.928332Z"
    }
   },
   "outputs": [],
   "source": [
    "#connect and load the database\n",
    "#online source: https://centadata.publicdata.hk/centadata-bd4a1e3.db\n",
    "centadata = sqlite3.connect('data/raw/centadata-2018-11-19.db')\n",
    "data = pd.read_sql_query(\"select * from centadatatransactions join centadataunits using (unitcode) join centadatabuildings using (buildingcode) WHERE txdate BETWEEN '1996-01-01' AND '2017-12-31'\", centadata)"
   ]
  },
  {
   "cell_type": "code",
   "execution_count": 3,
   "metadata": {
    "ExecuteTime": {
     "end_time": "2019-04-17T09:02:21.842961Z",
     "start_time": "2019-04-17T09:02:20.613660Z"
    },
    "scrolled": true
   },
   "outputs": [
    {
     "name": "stdout",
     "output_type": "stream",
     "text": [
      "data len:  1815620\n",
      "1996-01-02 2017-12-29\n"
     ]
    }
   ],
   "source": [
    "# Load the Hong Kong housing dataset\n",
    "# data = pd.read_csv('data/raw/dataset-10-01-2019.csv')\n",
    "print(\"data len: \",len(data))\n",
    "print(data['txdate'].min(), data['txdate'].max())"
   ]
  },
  {
   "cell_type": "code",
   "execution_count": 4,
   "metadata": {
    "ExecuteTime": {
     "end_time": "2019-04-17T09:02:22.311692Z",
     "start_time": "2019-04-17T09:02:21.860951Z"
    }
   },
   "outputs": [
    {
     "data": {
      "text/plain": [
       "count       1815620.000000\n",
       "mean        3972486.298756\n",
       "std         6475576.255079\n",
       "min           10000.000000\n",
       "25%         1510000.000000\n",
       "50%         2510000.000000\n",
       "75%         4380000.000000\n",
       "max      1020000000.000000\n",
       "Name: price, dtype: object"
      ]
     },
     "execution_count": 4,
     "metadata": {},
     "output_type": "execute_result"
    }
   ],
   "source": [
    "data['price'].describe().apply(lambda x: format(x, 'f'))"
   ]
  },
  {
   "cell_type": "markdown",
   "metadata": {},
   "source": [
    "### Extract the unit floor"
   ]
  },
  {
   "cell_type": "code",
   "execution_count": 5,
   "metadata": {
    "ExecuteTime": {
     "end_time": "2019-04-17T09:02:27.555700Z",
     "start_time": "2019-04-17T09:02:22.325684Z"
    }
   },
   "outputs": [
    {
     "name": "stdout",
     "output_type": "stream",
     "text": [
      "after cleanup: 0\n"
     ]
    }
   ],
   "source": [
    "data[\"floor\"] = data[\"yaxis\"].str.extract('(?i)(\\d+|g)\\w?(?=\\/f)', expand=False)\n",
    "data['floor'] = data['floor'].replace('G','0')\n",
    "data['floor'] = data['floor'].fillna('0')\n",
    "data['floor'] = data['floor'].astype('int')\n",
    "print(\"after cleanup: \" + str(len(data[data['floor'].isna()])))"
   ]
  },
  {
   "cell_type": "code",
   "execution_count": 6,
   "metadata": {
    "ExecuteTime": {
     "end_time": "2019-04-17T09:02:27.628658Z",
     "start_time": "2019-04-17T09:02:27.561694Z"
    }
   },
   "outputs": [
    {
     "data": {
      "text/plain": [
       "array([ 1,  0,  2,  3,  5,  8,  4,  6,  7,  9, 10, 11, 12, 13, 15, 16, 17,\n",
       "       18, 19, 14, 20, 21, 23, 22, 24, 25, 26, 27, 28, 29, 30, 31, 32, 33,\n",
       "       35, 36, 39, 37, 38, 40, 41, 42, 43, 45, 46, 47, 48, 49, 50, 34, 44,\n",
       "       60, 51, 52, 53, 55, 56, 57, 58, 59, 54, 66, 61, 62, 63, 64, 65, 67,\n",
       "       68, 69, 70, 71, 72, 75, 76, 73, 77, 79, 78, 80, 87, 88, 89, 90, 81,\n",
       "       82, 83, 85, 86], dtype=int64)"
      ]
     },
     "execution_count": 6,
     "metadata": {},
     "output_type": "execute_result"
    }
   ],
   "source": [
    "data[\"floor\"].unique()"
   ]
  },
  {
   "cell_type": "code",
   "execution_count": 7,
   "metadata": {
    "ExecuteTime": {
     "end_time": "2019-04-17T09:02:32.157070Z",
     "start_time": "2019-04-17T09:02:27.633653Z"
    }
   },
   "outputs": [],
   "source": [
    "# declare the relevant period for the other datasets\n",
    "date_from = '1996-01-01'\n",
    "date_until = '2017-12-31'data['yearofcompletion'] = data['dateofcompletion'].str.extract('(\\d{4})', expand=False)"
   ]
  },
  {
   "cell_type": "markdown",
   "metadata": {},
   "source": [
    "### Keep only the relevant data"
   ]
  },
  {
   "cell_type": "code",
   "execution_count": 8,
   "metadata": {
    "ExecuteTime": {
     "end_time": "2019-04-17T09:02:32.171065Z",
     "start_time": "2019-04-17T09:02:32.162067Z"
    }
   },
   "outputs": [
    {
     "data": {
      "text/plain": [
       "1815620"
      ]
     },
     "execution_count": 8,
     "metadata": {},
     "output_type": "execute_result"
    }
   ],
   "source": [
    "# # declare the relevant period for the other datasets\n",
    "# date_from = '1996-01-01'\n",
    "# date_until = '2017-12-31'\n",
    "\n",
    "# # filter the dataset\n",
    "# data = data[data['year'] >= int(re.match('\\d{4}', date_from).group())]\n",
    "# data = data[data['year'] <= int(re.match('\\d{4}', date_until).group())]\n",
    "\n",
    "# for testing let's limit the size of the df\n",
    "# data = data.sample(100000)\n",
    "\n",
    "len(data)"
   ]
  },
  {
   "cell_type": "code",
   "execution_count": 9,
   "metadata": {
    "ExecuteTime": {
     "end_time": "2019-04-17T09:02:49.546140Z",
     "start_time": "2019-04-17T09:02:32.183055Z"
    }
   },
   "outputs": [],
   "source": [
    "cols = ['unitcode',\n",
    " 'buildingcode',\n",
    " 'xaxis',\n",
    " 'yaxis',\n",
    " 'buildingname',\n",
    " 'phasecode',\n",
    " 'phasename',\n",
    "'dateofcompletion',\n",
    "'numberofunits',\n",
    "'numberoffloors',\n",
    "'flatsperfloor',\n",
    " 'estatecode',\n",
    " 'estatename',\n",
    " 'buildingaddress',\n",
    "'schoolnet',\n",
    "'buildingnamechinese',\n",
    "'phasenamechinese',\n",
    "'estatenamechinese',\n",
    "'buildingaddresschinese',\n",
    "'regionchinese',\n",
    "'propertydeveloperchinese',\n",
    "'propertyfacilitieschinese',\n",
    "'propertymanagerchinese'\n",
    "]\n",
    "data.drop(cols, axis=1, inplace=True)\n",
    "data = data.sort_values('txdate')"
   ]
  },
  {
   "cell_type": "code",
   "execution_count": 10,
   "metadata": {
    "ExecuteTime": {
     "end_time": "2019-04-17T09:02:51.602966Z",
     "start_time": "2019-04-17T09:02:49.562131Z"
    }
   },
   "outputs": [
    {
     "data": {
      "text/html": [
       "<div>\n",
       "<style scoped>\n",
       "    .dataframe tbody tr th:only-of-type {\n",
       "        vertical-align: middle;\n",
       "    }\n",
       "\n",
       "    .dataframe tbody tr th {\n",
       "        vertical-align: top;\n",
       "    }\n",
       "\n",
       "    .dataframe thead th {\n",
       "        text-align: right;\n",
       "    }\n",
       "</style>\n",
       "<table border=\"1\" class=\"dataframe\">\n",
       "  <thead>\n",
       "    <tr style=\"text-align: right;\">\n",
       "      <th></th>\n",
       "      <th>txdate</th>\n",
       "      <th>price</th>\n",
       "      <th>saleablearea</th>\n",
       "      <th>grossarea</th>\n",
       "      <th>region</th>\n",
       "      <th>regioncode</th>\n",
       "      <th>floor</th>\n",
       "      <th>yearofcompletion</th>\n",
       "    </tr>\n",
       "  </thead>\n",
       "  <tbody>\n",
       "    <tr>\n",
       "      <th>561203</th>\n",
       "      <td>2016-02-16</td>\n",
       "      <td>1020000000</td>\n",
       "      <td>11937.0</td>\n",
       "      <td>NaN</td>\n",
       "      <td>Peak/South</td>\n",
       "      <td>107</td>\n",
       "      <td>0</td>\n",
       "      <td>1966</td>\n",
       "    </tr>\n",
       "  </tbody>\n",
       "</table>\n",
       "</div>"
      ],
      "text/plain": [
       "            txdate       price  saleablearea  grossarea      region  \\\n",
       "561203  2016-02-16  1020000000       11937.0        NaN  Peak/South   \n",
       "\n",
       "        regioncode  floor yearofcompletion  \n",
       "561203         107      0             1966  "
      ]
     },
     "execution_count": 10,
     "metadata": {},
     "output_type": "execute_result"
    }
   ],
   "source": [
    "# The most expensive transaction !\n",
    "data.sort_values('price').tail(1)"
   ]
  },
  {
   "cell_type": "code",
   "execution_count": 11,
   "metadata": {
    "ExecuteTime": {
     "end_time": "2019-04-17T09:02:51.619958Z",
     "start_time": "2019-04-17T09:02:51.609972Z"
    }
   },
   "outputs": [
    {
     "data": {
      "text/plain": [
       "Index(['txdate', 'price', 'saleablearea', 'grossarea', 'region', 'regioncode',\n",
       "       'floor', 'yearofcompletion'],\n",
       "      dtype='object')"
      ]
     },
     "execution_count": 11,
     "metadata": {},
     "output_type": "execute_result"
    }
   ],
   "source": [
    "data.columns"
   ]
  },
  {
   "cell_type": "code",
   "execution_count": 12,
   "metadata": {
    "ExecuteTime": {
     "end_time": "2019-04-17T09:02:51.672928Z",
     "start_time": "2019-04-17T09:02:51.627954Z"
    }
   },
   "outputs": [
    {
     "data": {
      "text/plain": [
       "56"
      ]
     },
     "execution_count": 12,
     "metadata": {},
     "output_type": "execute_result"
    }
   ],
   "source": [
    "len(data.regioncode.unique())"
   ]
  },
  {
   "cell_type": "code",
   "execution_count": 13,
   "metadata": {
    "ExecuteTime": {
     "end_time": "2019-04-17T09:02:52.544429Z",
     "start_time": "2019-04-17T09:02:51.675942Z"
    }
   },
   "outputs": [
    {
     "data": {
      "text/plain": [
       "57"
      ]
     },
     "execution_count": 13,
     "metadata": {},
     "output_type": "execute_result"
    }
   ],
   "source": [
    "len(data.region.unique())"
   ]
  },
  {
   "cell_type": "code",
   "execution_count": 14,
   "metadata": {
    "ExecuteTime": {
     "end_time": "2019-04-17T09:02:52.561419Z",
     "start_time": "2019-04-17T09:02:52.548428Z"
    },
    "scrolled": true
   },
   "outputs": [
    {
     "data": {
      "text/plain": [
       "txdate               object\n",
       "price                 int64\n",
       "saleablearea        float64\n",
       "grossarea           float64\n",
       "region               object\n",
       "regioncode            int64\n",
       "floor                 int32\n",
       "yearofcompletion     object\n",
       "dtype: object"
      ]
     },
     "execution_count": 14,
     "metadata": {},
     "output_type": "execute_result"
    }
   ],
   "source": [
    "data.dtypes"
   ]
  },
  {
   "cell_type": "markdown",
   "metadata": {},
   "source": [
    "### Create a 'transaction_year' column"
   ]
  },
  {
   "cell_type": "code",
   "execution_count": 15,
   "metadata": {
    "ExecuteTime": {
     "end_time": "2019-04-17T09:02:55.760593Z",
     "start_time": "2019-04-17T09:02:52.565416Z"
    }
   },
   "outputs": [],
   "source": [
    "data['transaction_year'] = data['txdate'].apply(lambda x: str(x).split('-')[0]).astype(str).astype(int)"
   ]
  },
  {
   "cell_type": "markdown",
   "metadata": {},
   "source": [
    "### Convert to datetime"
   ]
  },
  {
   "cell_type": "code",
   "execution_count": 16,
   "metadata": {
    "ExecuteTime": {
     "end_time": "2019-04-17T09:02:59.806282Z",
     "start_time": "2019-04-17T09:02:55.764590Z"
    }
   },
   "outputs": [],
   "source": [
    "data['txdate'] = pd.to_datetime(data['txdate'], format=\"%Y-%m-%d\")\n",
    "data.rename(columns={\"txdate\": \"date\"},inplace=True)\n",
    "data.set_index('date',inplace=True,drop=True)"
   ]
  },
  {
   "cell_type": "markdown",
   "metadata": {},
   "source": [
    "### Convert string column region to lowercase"
   ]
  },
  {
   "cell_type": "code",
   "execution_count": 17,
   "metadata": {
    "ExecuteTime": {
     "end_time": "2019-04-17T09:03:02.862538Z",
     "start_time": "2019-04-17T09:02:59.820275Z"
    }
   },
   "outputs": [],
   "source": [
    "data['region'] = data['region'].apply(lambda x: x.lower() if isinstance(x, str) else x)"
   ]
  },
  {
   "cell_type": "markdown",
   "metadata": {},
   "source": [
    "### Correct typo on the district name 'Hung Hum'"
   ]
  },
  {
   "cell_type": "code",
   "execution_count": 18,
   "metadata": {
    "ExecuteTime": {
     "end_time": "2019-04-17T09:03:03.370250Z",
     "start_time": "2019-04-17T09:03:02.931498Z"
    }
   },
   "outputs": [],
   "source": [
    "data['region'] = data['region'].replace('Hung Hum','Hung Hom')"
   ]
  },
  {
   "cell_type": "markdown",
   "metadata": {},
   "source": [
    "### Fill the empty cells"
   ]
  },
  {
   "cell_type": "code",
   "execution_count": 19,
   "metadata": {
    "ExecuteTime": {
     "end_time": "2019-04-17T09:03:03.938924Z",
     "start_time": "2019-04-17T09:03:03.375248Z"
    }
   },
   "outputs": [
    {
     "name": "stdout",
     "output_type": "stream",
     "text": [
      "remove the transactions that have neither the net or gross area\n",
      "empty values before cleanup: 51326\n",
      "empty values after cleanup: 0\n"
     ]
    }
   ],
   "source": [
    "print(\"remove the transactions that have neither the net or gross area\")\n",
    "print(\"empty values before cleanup: \" + str(len(data[(data['saleablearea'].isna() == True) & (data['grossarea'].isna() == True)])))\n",
    "\n",
    "# remove these transactions from the dataset\n",
    "data = data[(data['saleablearea'].isna() == False) | (data['grossarea'].isna() == False)]\n",
    "print(\"empty values after cleanup: \" +  str(len(data[(data['saleablearea'].isna() == True) & (data['grossarea'].isna() == True)])))"
   ]
  },
  {
   "cell_type": "code",
   "execution_count": 20,
   "metadata": {
    "ExecuteTime": {
     "end_time": "2019-04-17T09:03:04.262737Z",
     "start_time": "2019-04-17T09:03:03.942921Z"
    }
   },
   "outputs": [
    {
     "data": {
      "text/plain": [
       "0.7698564951500763"
      ]
     },
     "execution_count": 20,
     "metadata": {},
     "output_type": "execute_result"
    }
   ],
   "source": [
    "dfRatio = data['saleablearea'][(data['saleablearea'].isna() == False) & (data['grossarea'].isna() == False)] / data['grossarea'][(data['saleablearea'].isna() == False) & (data['grossarea'].isna() == False)]\n",
    "dfRatio.mean()"
   ]
  },
  {
   "cell_type": "code",
   "execution_count": 21,
   "metadata": {
    "ExecuteTime": {
     "end_time": "2019-04-17T09:03:09.381815Z",
     "start_time": "2019-04-17T09:03:04.267734Z"
    },
    "scrolled": true
   },
   "outputs": [
    {
     "name": "stdout",
     "output_type": "stream",
     "text": [
      "Calculating the value of saleablearea based on the average net/gross ratio\n",
      "empty values before cleanup: 335263\n",
      "empty values after cleanup: 0\n"
     ]
    }
   ],
   "source": [
    "print(\"Calculating the value of saleablearea based on the average net/gross ratio\")\n",
    "print(\"empty values before cleanup: \" + str(len(data[data['saleablearea'].isna() == True])))\n",
    "data['saleablearea'] = data['saleablearea'].fillna(data['grossarea'] * dfRatio.mean())\n",
    "data['saleablearea'] = data['saleablearea'].astype(\"int\")\n",
    "print(\"empty values after cleanup: \" + str(len(data[data['saleablearea'].isna() == True])))"
   ]
  },
  {
   "cell_type": "code",
   "execution_count": 22,
   "metadata": {
    "ExecuteTime": {
     "end_time": "2019-04-17T09:03:09.778589Z",
     "start_time": "2019-04-17T09:03:09.387811Z"
    }
   },
   "outputs": [
    {
     "name": "stdout",
     "output_type": "stream",
     "text": [
      "Calculating the value of grossarea based on the average net/gross ratio\n",
      "empty values before cleanup: 180260\n",
      "empty values after cleanup: 0\n"
     ]
    }
   ],
   "source": [
    "print(\"Calculating the value of grossarea based on the average net/gross ratio\")\n",
    "print(\"empty values before cleanup: \" + str(len(data[data['grossarea'].isna() == True])))\n",
    "data['grossarea'] = data['grossarea'].fillna(data['saleablearea'] / dfRatio.mean())\n",
    "data['grossarea'] = data['grossarea'].astype(\"int\")\n",
    "print(\"empty values after cleanup: \" + str(len(data[data['grossarea'].isna() == True])))"
   ]
  },
  {
   "cell_type": "code",
   "execution_count": 23,
   "metadata": {
    "ExecuteTime": {
     "end_time": "2019-04-17T09:03:12.116256Z",
     "start_time": "2019-04-17T09:03:09.785585Z"
    }
   },
   "outputs": [
    {
     "name": "stdout",
     "output_type": "stream",
     "text": [
      "remove the transactions that have no date of completion\n",
      "empty values before cleanup: 10533\n",
      "empty values after cleanup: 0\n"
     ]
    }
   ],
   "source": [
    "print(\"remove the transactions that have no date of completion\")\n",
    "print(\"empty values before cleanup: \" + str(len(data[(data['yearofcompletion'].isna() == True)])))\n",
    "\n",
    "# remove these transactions from the dataset\n",
    "data = data[(data['yearofcompletion'].isna() == False)]\n",
    "print(\"empty values after cleanup: \" +  str(len(data[(data['yearofcompletion'].isna() == True)])))"
   ]
  },
  {
   "cell_type": "markdown",
   "metadata": {},
   "source": [
    "### Calculate the netPricePerSqf, resampled and normalized"
   ]
  },
  {
   "cell_type": "code",
   "execution_count": 24,
   "metadata": {
    "ExecuteTime": {
     "end_time": "2019-04-17T09:03:12.313143Z",
     "start_time": "2019-04-17T09:03:12.122250Z"
    }
   },
   "outputs": [],
   "source": [
    "data['netPricePerSqf'] = data['price'] / data['saleablearea']\n",
    "data['netPricePerSqf'] = data['netPricePerSqf'].astype('int')\n",
    "netPricePerSqf  = data['netPricePerSqf']"
   ]
  },
  {
   "cell_type": "code",
   "execution_count": 25,
   "metadata": {
    "ExecuteTime": {
     "end_time": "2019-04-17T09:03:13.426504Z",
     "start_time": "2019-04-17T09:03:12.318139Z"
    },
    "scrolled": true
   },
   "outputs": [],
   "source": [
    "# Resampled on the first day of the month\n",
    "netPricePerSqf_resampled_MS = data.resample('MS').median()\n",
    "\n",
    "# Normalized, Resampled on the first day of the month\n",
    "normalized_netPricePerSqf_MS = netPricePerSqf_resampled_MS.div(netPricePerSqf_resampled_MS.iloc[0]).mul(100)\n",
    "# normalized_netPricePerSqf_MS = normalized_netPricePerSqf_MS.to_frame()\n",
    "# normalized_netPricePerSqf_MS.columns = ['Hong Kong Property net price per SQF']"
   ]
  },
  {
   "cell_type": "code",
   "execution_count": 26,
   "metadata": {
    "ExecuteTime": {
     "end_time": "2019-04-17T09:03:13.617440Z",
     "start_time": "2019-04-17T09:03:13.430503Z"
    }
   },
   "outputs": [],
   "source": [
    "# Resampled on the first day of the quarter\n",
    "netPricePerSqf_resampled_QS = data['netPricePerSqf'].resample('QS').median()\n",
    "netPricePerSqf_resampled_QS = netPricePerSqf_resampled_QS.to_frame()\n",
    "\n",
    "# Normalized, Resampled on the first day of the quarter\n",
    "normalized_netPricePerSqf_QS = netPricePerSqf_resampled_QS.div(netPricePerSqf_resampled_QS.iloc[0]).mul(100)"
   ]
  },
  {
   "cell_type": "markdown",
   "metadata": {},
   "source": [
    "### Check the output"
   ]
  },
  {
   "cell_type": "code",
   "execution_count": 27,
   "metadata": {
    "ExecuteTime": {
     "end_time": "2019-04-17T09:03:15.379442Z",
     "start_time": "2019-04-17T09:03:13.622392Z"
    }
   },
   "outputs": [
    {
     "name": "stdout",
     "output_type": "stream",
     "text": [
      "The processed transaction dataset has 1753761 data points with 9 variables each.\n",
      "\n",
      "empty cells:\n",
      "price               0\n",
      "saleablearea        0\n",
      "grossarea           0\n",
      "region              0\n",
      "regioncode          0\n",
      "floor               0\n",
      "yearofcompletion    0\n",
      "transaction_year    0\n",
      "netPricePerSqf      0\n",
      "dtype: int64\n"
     ]
    },
    {
     "data": {
      "text/html": [
       "<div>\n",
       "<style scoped>\n",
       "    .dataframe tbody tr th:only-of-type {\n",
       "        vertical-align: middle;\n",
       "    }\n",
       "\n",
       "    .dataframe tbody tr th {\n",
       "        vertical-align: top;\n",
       "    }\n",
       "\n",
       "    .dataframe thead th {\n",
       "        text-align: right;\n",
       "    }\n",
       "</style>\n",
       "<table border=\"1\" class=\"dataframe\">\n",
       "  <thead>\n",
       "    <tr style=\"text-align: right;\">\n",
       "      <th></th>\n",
       "      <th>price</th>\n",
       "      <th>saleablearea</th>\n",
       "      <th>grossarea</th>\n",
       "      <th>region</th>\n",
       "      <th>regioncode</th>\n",
       "      <th>floor</th>\n",
       "      <th>yearofcompletion</th>\n",
       "      <th>transaction_year</th>\n",
       "      <th>netPricePerSqf</th>\n",
       "    </tr>\n",
       "    <tr>\n",
       "      <th>date</th>\n",
       "      <th></th>\n",
       "      <th></th>\n",
       "      <th></th>\n",
       "      <th></th>\n",
       "      <th></th>\n",
       "      <th></th>\n",
       "      <th></th>\n",
       "      <th></th>\n",
       "      <th></th>\n",
       "    </tr>\n",
       "  </thead>\n",
       "  <tbody>\n",
       "    <tr>\n",
       "      <th>2003-08-21</th>\n",
       "      <td>1430000</td>\n",
       "      <td>434</td>\n",
       "      <td>564</td>\n",
       "      <td>north point/fortress hill</td>\n",
       "      <td>112</td>\n",
       "      <td>19</td>\n",
       "      <td>1993</td>\n",
       "      <td>2003</td>\n",
       "      <td>3294</td>\n",
       "    </tr>\n",
       "    <tr>\n",
       "      <th>2012-10-30</th>\n",
       "      <td>5040000</td>\n",
       "      <td>477</td>\n",
       "      <td>620</td>\n",
       "      <td>tuen mun</td>\n",
       "      <td>402</td>\n",
       "      <td>33</td>\n",
       "      <td>2012</td>\n",
       "      <td>2012</td>\n",
       "      <td>10566</td>\n",
       "    </tr>\n",
       "    <tr>\n",
       "      <th>2000-08-07</th>\n",
       "      <td>2490000</td>\n",
       "      <td>528</td>\n",
       "      <td>687</td>\n",
       "      <td>tsing yi</td>\n",
       "      <td>406</td>\n",
       "      <td>8</td>\n",
       "      <td>2000</td>\n",
       "      <td>2000</td>\n",
       "      <td>4715</td>\n",
       "    </tr>\n",
       "    <tr>\n",
       "      <th>2014-02-05</th>\n",
       "      <td>3600000</td>\n",
       "      <td>295</td>\n",
       "      <td>383</td>\n",
       "      <td>sheung wan/central/admiralty</td>\n",
       "      <td>117</td>\n",
       "      <td>21</td>\n",
       "      <td>1985</td>\n",
       "      <td>2014</td>\n",
       "      <td>12203</td>\n",
       "    </tr>\n",
       "    <tr>\n",
       "      <th>1999-07-20</th>\n",
       "      <td>810000</td>\n",
       "      <td>535</td>\n",
       "      <td>695</td>\n",
       "      <td>tuen mun</td>\n",
       "      <td>402</td>\n",
       "      <td>10</td>\n",
       "      <td>1999</td>\n",
       "      <td>1999</td>\n",
       "      <td>1514</td>\n",
       "    </tr>\n",
       "  </tbody>\n",
       "</table>\n",
       "</div>"
      ],
      "text/plain": [
       "              price  saleablearea  grossarea                        region  \\\n",
       "date                                                                         \n",
       "2003-08-21  1430000           434        564     north point/fortress hill   \n",
       "2012-10-30  5040000           477        620                      tuen mun   \n",
       "2000-08-07  2490000           528        687                      tsing yi   \n",
       "2014-02-05  3600000           295        383  sheung wan/central/admiralty   \n",
       "1999-07-20   810000           535        695                      tuen mun   \n",
       "\n",
       "            regioncode  floor yearofcompletion  transaction_year  \\\n",
       "date                                                               \n",
       "2003-08-21         112     19             1993              2003   \n",
       "2012-10-30         402     33             2012              2012   \n",
       "2000-08-07         406      8             2000              2000   \n",
       "2014-02-05         117     21             1985              2014   \n",
       "1999-07-20         402     10             1999              1999   \n",
       "\n",
       "            netPricePerSqf  \n",
       "date                        \n",
       "2003-08-21            3294  \n",
       "2012-10-30           10566  \n",
       "2000-08-07            4715  \n",
       "2014-02-05           12203  \n",
       "1999-07-20            1514  "
      ]
     },
     "execution_count": 27,
     "metadata": {},
     "output_type": "execute_result"
    }
   ],
   "source": [
    "data_processed = data\n",
    "\n",
    "# Success\n",
    "print(\"The processed transaction dataset has {} data points with {} variables each.\\n\".format(*data.shape))\n",
    "print(\"empty cells:\\n\" + str(data.isnull().sum()))\n",
    "data_processed.sample(5)"
   ]
  },
  {
   "cell_type": "code",
   "execution_count": 28,
   "metadata": {
    "ExecuteTime": {
     "end_time": "2019-04-17T09:03:15.626250Z",
     "start_time": "2019-04-17T09:03:15.382406Z"
    },
    "scrolled": false
   },
   "outputs": [
    {
     "name": "stdout",
     "output_type": "stream",
     "text": [
      "Statistics for the Hong Kong housing dataset:\n",
      "\n",
      "Number of transactions in the dataset: 1753761\n",
      "\n",
      "Transactions:\n",
      "Minimum price: 10000 HKD\n",
      "Maximum price: 1020000000 HKD\n",
      "Mean price: 4017230 HKD\n",
      "Median price 2560000.0 HKD\n",
      "Standard deviation of prices: 6421162 HKD\n",
      "\n",
      "Price per SQF:\n",
      "Minimum net price per SQF: 14 HKD\n",
      "Maximum net price per SQF: 1227450 HKD\n",
      "Mean net price per SQF: 6315 HKD\n",
      "Median net price per SQF: 5167 HKD\n",
      "Standard deviation of net price per SQF: 4444 HKD\n"
     ]
    }
   ],
   "source": [
    "# Minimum price of the data\n",
    "minimum_price = np.amin(data.price)\n",
    "\n",
    "# Maximum price of the data\n",
    "maximum_price = np.amax(data.price)\n",
    "\n",
    "# Mean price of the data\n",
    "mean_price = int(np.mean(data.price))\n",
    "\n",
    "# Median price of the data\n",
    "median_price = np.median(data.price)\n",
    "\n",
    "# Standard deviation of prices of the data\n",
    "std_price = int(np.std(data.price))\n",
    "\n",
    "# Show the calculated statistics\n",
    "print(\"Statistics for the Hong Kong housing dataset:\\n\")\n",
    "print(\"Number of transactions in the dataset: \" + str(len(data['netPricePerSqf'])))\n",
    "print(\"\\nTransactions:\\nMinimum price: {} HKD\".format(minimum_price)) \n",
    "print(\"Maximum price: {} HKD\".format(maximum_price))\n",
    "print(\"Mean price: {} HKD\".format(mean_price))\n",
    "print(\"Median price {} HKD\".format(median_price))\n",
    "print(\"Standard deviation of prices: {} HKD\".format(std_price))\n",
    "\n",
    "# Minimum price of the data\n",
    "minimum_netPricePerSqf = np.amin(netPricePerSqf)\n",
    "\n",
    "# Maximum price of the data\n",
    "maximum_netPricePerSqf = np.amax(netPricePerSqf)\n",
    "\n",
    "# Mean price of the data\n",
    "mean_netPricePerSqf = int(np.mean(netPricePerSqf))\n",
    "\n",
    "# Median price of the data\n",
    "median_netPricePerSqf = np.median(netPricePerSqf)\n",
    "\n",
    "# Standard deviation of prices of the data\n",
    "std_netPricePerSqf = int(np.std(netPricePerSqf))\n",
    "\n",
    "# Show the calculated statistics\n",
    "print(\"\\nPrice per SQF:\\nMinimum net price per SQF: {0:.0f} HKD\".format(minimum_netPricePerSqf)) \n",
    "print(\"Maximum net price per SQF: {0:.0f} HKD\".format(maximum_netPricePerSqf))\n",
    "print(\"Mean net price per SQF: {0:.0f} HKD\".format(mean_netPricePerSqf))\n",
    "print(\"Median net price per SQF: {0:.0f} HKD\".format(median_netPricePerSqf))\n",
    "print(\"Standard deviation of net price per SQF: {0:.0f} HKD\".format(std_netPricePerSqf))"
   ]
  },
  {
   "cell_type": "markdown",
   "metadata": {},
   "source": [
    "## Supplementary data"
   ]
  },
  {
   "cell_type": "markdown",
   "metadata": {},
   "source": [
    "### Hong Kong regions"
   ]
  },
  {
   "cell_type": "code",
   "execution_count": 29,
   "metadata": {
    "ExecuteTime": {
     "end_time": "2019-04-17T09:03:15.647238Z",
     "start_time": "2019-04-17T09:03:15.630247Z"
    }
   },
   "outputs": [],
   "source": [
    "# Matching regions and district\n",
    "# url=\"https://docs.google.com/spreadsheets/d/e/2PACX-1vRiiJ1hywSJcovAGQslTkI6g6aIQRc_uVe3-bE8Lee_b68MWVE3AWjtf5y1wwwdf-OWstIA7HqNcjme/pub?gid=0&single=true&output=csv\"\n",
    "df_district = pd.read_csv('data/external/Hong_Kong_districts - Sheet1.csv')"
   ]
  },
  {
   "cell_type": "code",
   "execution_count": 30,
   "metadata": {
    "ExecuteTime": {
     "end_time": "2019-04-17T09:03:20.792300Z",
     "start_time": "2019-04-17T09:03:15.653233Z"
    }
   },
   "outputs": [
    {
     "name": "stdout",
     "output_type": "stream",
     "text": [
      "empty cells:\n",
      "price               0\n",
      "saleablearea        0\n",
      "grossarea           0\n",
      "region              0\n",
      "regioncode          0\n",
      "floor               0\n",
      "yearofcompletion    0\n",
      "transaction_year    0\n",
      "netPricePerSqf      0\n",
      "district            0\n",
      "dtype: int64\n"
     ]
    }
   ],
   "source": [
    "data_processed_region = data_processed.reset_index().merge(df_district).set_index('date')\n",
    "print(\"empty cells:\\n\" + str(data_processed_region.isnull().sum()))"
   ]
  },
  {
   "cell_type": "code",
   "execution_count": 31,
   "metadata": {
    "ExecuteTime": {
     "end_time": "2019-04-17T09:03:20.872253Z",
     "start_time": "2019-04-17T09:03:20.800295Z"
    }
   },
   "outputs": [
    {
     "data": {
      "text/html": [
       "<div>\n",
       "<style scoped>\n",
       "    .dataframe tbody tr th:only-of-type {\n",
       "        vertical-align: middle;\n",
       "    }\n",
       "\n",
       "    .dataframe tbody tr th {\n",
       "        vertical-align: top;\n",
       "    }\n",
       "\n",
       "    .dataframe thead th {\n",
       "        text-align: right;\n",
       "    }\n",
       "</style>\n",
       "<table border=\"1\" class=\"dataframe\">\n",
       "  <thead>\n",
       "    <tr style=\"text-align: right;\">\n",
       "      <th></th>\n",
       "      <th>price</th>\n",
       "      <th>saleablearea</th>\n",
       "      <th>grossarea</th>\n",
       "      <th>region</th>\n",
       "      <th>regioncode</th>\n",
       "      <th>floor</th>\n",
       "      <th>yearofcompletion</th>\n",
       "      <th>transaction_year</th>\n",
       "      <th>netPricePerSqf</th>\n",
       "      <th>district</th>\n",
       "    </tr>\n",
       "    <tr>\n",
       "      <th>date</th>\n",
       "      <th></th>\n",
       "      <th></th>\n",
       "      <th></th>\n",
       "      <th></th>\n",
       "      <th></th>\n",
       "      <th></th>\n",
       "      <th></th>\n",
       "      <th></th>\n",
       "      <th></th>\n",
       "      <th></th>\n",
       "    </tr>\n",
       "  </thead>\n",
       "  <tbody>\n",
       "    <tr>\n",
       "      <th>1996-01-02</th>\n",
       "      <td>2240000</td>\n",
       "      <td>381</td>\n",
       "      <td>487</td>\n",
       "      <td>to kwa wan</td>\n",
       "      <td>206</td>\n",
       "      <td>7</td>\n",
       "      <td>1995</td>\n",
       "      <td>1996</td>\n",
       "      <td>5879</td>\n",
       "      <td>Kowloon</td>\n",
       "    </tr>\n",
       "    <tr>\n",
       "      <th>1996-01-02</th>\n",
       "      <td>2230000</td>\n",
       "      <td>379</td>\n",
       "      <td>486</td>\n",
       "      <td>to kwa wan</td>\n",
       "      <td>206</td>\n",
       "      <td>7</td>\n",
       "      <td>1995</td>\n",
       "      <td>1996</td>\n",
       "      <td>5883</td>\n",
       "      <td>Kowloon</td>\n",
       "    </tr>\n",
       "    <tr>\n",
       "      <th>1996-01-02</th>\n",
       "      <td>2360000</td>\n",
       "      <td>374</td>\n",
       "      <td>487</td>\n",
       "      <td>to kwa wan</td>\n",
       "      <td>206</td>\n",
       "      <td>21</td>\n",
       "      <td>1995</td>\n",
       "      <td>1996</td>\n",
       "      <td>6310</td>\n",
       "      <td>Kowloon</td>\n",
       "    </tr>\n",
       "    <tr>\n",
       "      <th>1996-01-02</th>\n",
       "      <td>2860000</td>\n",
       "      <td>470</td>\n",
       "      <td>611</td>\n",
       "      <td>to kwa wan</td>\n",
       "      <td>206</td>\n",
       "      <td>15</td>\n",
       "      <td>1995</td>\n",
       "      <td>1996</td>\n",
       "      <td>6085</td>\n",
       "      <td>Kowloon</td>\n",
       "    </tr>\n",
       "    <tr>\n",
       "      <th>1996-01-02</th>\n",
       "      <td>3000000</td>\n",
       "      <td>470</td>\n",
       "      <td>611</td>\n",
       "      <td>to kwa wan</td>\n",
       "      <td>206</td>\n",
       "      <td>13</td>\n",
       "      <td>1995</td>\n",
       "      <td>1996</td>\n",
       "      <td>6382</td>\n",
       "      <td>Kowloon</td>\n",
       "    </tr>\n",
       "  </tbody>\n",
       "</table>\n",
       "</div>"
      ],
      "text/plain": [
       "              price  saleablearea  grossarea      region  regioncode  floor  \\\n",
       "date                                                                          \n",
       "1996-01-02  2240000           381        487  to kwa wan         206      7   \n",
       "1996-01-02  2230000           379        486  to kwa wan         206      7   \n",
       "1996-01-02  2360000           374        487  to kwa wan         206     21   \n",
       "1996-01-02  2860000           470        611  to kwa wan         206     15   \n",
       "1996-01-02  3000000           470        611  to kwa wan         206     13   \n",
       "\n",
       "           yearofcompletion  transaction_year  netPricePerSqf district  \n",
       "date                                                                    \n",
       "1996-01-02             1995              1996            5879  Kowloon  \n",
       "1996-01-02             1995              1996            5883  Kowloon  \n",
       "1996-01-02             1995              1996            6310  Kowloon  \n",
       "1996-01-02             1995              1996            6085  Kowloon  \n",
       "1996-01-02             1995              1996            6382  Kowloon  "
      ]
     },
     "execution_count": 31,
     "metadata": {},
     "output_type": "execute_result"
    }
   ],
   "source": [
    "data_processed_region.head()"
   ]
  },
  {
   "cell_type": "markdown",
   "metadata": {},
   "source": [
    "### HANG SENG INDEX"
   ]
  },
  {
   "cell_type": "code",
   "execution_count": 32,
   "metadata": {
    "ExecuteTime": {
     "end_time": "2019-04-17T09:03:21.136104Z",
     "start_time": "2019-04-17T09:03:20.878250Z"
    }
   },
   "outputs": [],
   "source": [
    "# HANG SENG INDEX (^HSI) Yahoo Finance - Currency in HKD - Time Period: Dec 31, 1986 - Apr 10, 2019\n",
    "hang_seng = pd.read_csv('data/external/finance-yahoo-HSI-daily-max.csv')\n",
    "hang_seng.drop(columns=['High', 'Low', 'Close', 'Adj Close', 'Volume'],inplace=True)\n",
    "hang_seng.rename(columns = {'Open':'hang-seng-index'},inplace=True)\n",
    "hang_seng.rename(columns = {'Date': 'date'},inplace=True)\n",
    "\n",
    "hang_seng['date'] = pd.to_datetime(hang_seng['date'], format=\"%Y-%m-%d\")\n",
    "hang_seng.set_index('date',inplace=True,drop=True)\n",
    "\n",
    "hang_seng = hang_seng.resample('D').median()\n",
    "\n",
    "# propagate the last valid observation forward to next valid\n",
    "# hang_seng.fillna(method='ffill',inplace=True)\n",
    "hang_seng['hang-seng-index'].interpolate(method='time',inplace=True)\n",
    "hang_seng['hang-seng-index'] = hang_seng['hang-seng-index'].astype('int')"
   ]
  },
  {
   "cell_type": "code",
   "execution_count": 33,
   "metadata": {
    "ExecuteTime": {
     "end_time": "2019-04-17T09:03:21.170085Z",
     "start_time": "2019-04-17T09:03:21.142100Z"
    }
   },
   "outputs": [
    {
     "name": "stdout",
     "output_type": "stream",
     "text": [
      "len: 8036\n",
      "            hang-seng-index\n",
      "date                       \n",
      "1996-01-01            10052\n",
      "1996-01-02            10070\n",
      "1996-01-03            10252\n",
      "1996-01-04            10506\n",
      "1996-01-05            10470\n"
     ]
    }
   ],
   "source": [
    "hang_seng = hang_seng[hang_seng.index >= date_from]\n",
    "hang_seng = hang_seng[hang_seng.index <= date_until]\n",
    "print(\"len: \" + str(len(hang_seng)))\n",
    "print(hang_seng.head())"
   ]
  },
  {
   "cell_type": "code",
   "execution_count": 34,
   "metadata": {
    "ExecuteTime": {
     "end_time": "2019-04-17T09:03:21.203068Z",
     "start_time": "2019-04-17T09:03:21.182078Z"
    }
   },
   "outputs": [
    {
     "data": {
      "text/plain": [
       "hang-seng-index    0\n",
       "dtype: int64"
      ]
     },
     "execution_count": 34,
     "metadata": {},
     "output_type": "execute_result"
    }
   ],
   "source": [
    "hang_seng.isnull().sum()"
   ]
  },
  {
   "cell_type": "code",
   "execution_count": 35,
   "metadata": {
    "ExecuteTime": {
     "end_time": "2019-04-17T09:03:21.250039Z",
     "start_time": "2019-04-17T09:03:21.212060Z"
    }
   },
   "outputs": [
    {
     "data": {
      "text/html": [
       "<div>\n",
       "<style scoped>\n",
       "    .dataframe tbody tr th:only-of-type {\n",
       "        vertical-align: middle;\n",
       "    }\n",
       "\n",
       "    .dataframe tbody tr th {\n",
       "        vertical-align: top;\n",
       "    }\n",
       "\n",
       "    .dataframe thead th {\n",
       "        text-align: right;\n",
       "    }\n",
       "</style>\n",
       "<table border=\"1\" class=\"dataframe\">\n",
       "  <thead>\n",
       "    <tr style=\"text-align: right;\">\n",
       "      <th></th>\n",
       "      <th>hang-seng-index</th>\n",
       "    </tr>\n",
       "  </thead>\n",
       "  <tbody>\n",
       "    <tr>\n",
       "      <th>count</th>\n",
       "      <td>8036.000000</td>\n",
       "    </tr>\n",
       "    <tr>\n",
       "      <th>mean</th>\n",
       "      <td>17448.503733</td>\n",
       "    </tr>\n",
       "    <tr>\n",
       "      <th>std</th>\n",
       "      <td>5491.848569</td>\n",
       "    </tr>\n",
       "    <tr>\n",
       "      <th>min</th>\n",
       "      <td>6649.000000</td>\n",
       "    </tr>\n",
       "    <tr>\n",
       "      <th>25%</th>\n",
       "      <td>12684.500000</td>\n",
       "    </tr>\n",
       "    <tr>\n",
       "      <th>50%</th>\n",
       "      <td>17122.500000</td>\n",
       "    </tr>\n",
       "    <tr>\n",
       "      <th>75%</th>\n",
       "      <td>22298.250000</td>\n",
       "    </tr>\n",
       "    <tr>\n",
       "      <th>max</th>\n",
       "      <td>31783.000000</td>\n",
       "    </tr>\n",
       "  </tbody>\n",
       "</table>\n",
       "</div>"
      ],
      "text/plain": [
       "       hang-seng-index\n",
       "count      8036.000000\n",
       "mean      17448.503733\n",
       "std        5491.848569\n",
       "min        6649.000000\n",
       "25%       12684.500000\n",
       "50%       17122.500000\n",
       "75%       22298.250000\n",
       "max       31783.000000"
      ]
     },
     "execution_count": 35,
     "metadata": {},
     "output_type": "execute_result"
    }
   ],
   "source": [
    "hang_seng.describe()"
   ]
  },
  {
   "cell_type": "code",
   "execution_count": 36,
   "metadata": {
    "ExecuteTime": {
     "end_time": "2019-04-17T09:03:21.296011Z",
     "start_time": "2019-04-17T09:03:21.258033Z"
    }
   },
   "outputs": [],
   "source": [
    "hang_seng_resampled_QS = hang_seng.resample('QS').median()\n",
    "normalized_hang_seng = hang_seng_resampled_QS.div(hang_seng_resampled_QS.iloc[0]).mul(100)"
   ]
  },
  {
   "cell_type": "markdown",
   "metadata": {},
   "source": [
    "### Hong Kong GDP"
   ]
  },
  {
   "cell_type": "code",
   "execution_count": 37,
   "metadata": {
    "ExecuteTime": {
     "end_time": "2019-04-17T09:03:21.403952Z",
     "start_time": "2019-04-17T09:03:21.304009Z"
    }
   },
   "outputs": [],
   "source": [
    "# Hong Kong GDP\n",
    "# url=\"https://www.censtatd.gov.hk/showtablenewexcel.jsp?tableID=030&charsetID=1\"\n",
    "# HK_GDP = pd.read_excel(url,header=4,usecols=[0,2],)\n",
    "\n",
    "HK_GDP = pd.read_excel('data/external/hong-kong-GDP.xls',header=4,usecols=[0,1,2])"
   ]
  },
  {
   "cell_type": "code",
   "execution_count": 38,
   "metadata": {
    "ExecuteTime": {
     "end_time": "2019-04-17T09:03:21.630821Z",
     "start_time": "2019-04-17T09:03:21.408949Z"
    }
   },
   "outputs": [],
   "source": [
    "# Quartely data\n",
    "HK_GDP['Quarter'].replace(to_replace=r'\\s[rp]', value='', regex=True,inplace=True)\n",
    "HK_GDP = HK_GDP[(HK_GDP.Quarter == 'Q1') | (HK_GDP.Quarter == 'Q2')| (HK_GDP.Quarter == 'Q3')| (HK_GDP.Quarter == 'Q4')]\n",
    "HK_GDP['Year'].fillna(method='ffill',inplace=True)\n",
    "HK_GDP['Quarter'].replace(to_replace=r'Q1', value='-01-01', regex=True,inplace=True)\n",
    "HK_GDP['Quarter'].replace(to_replace=r'Q2', value='-04-01', regex=True,inplace=True)\n",
    "HK_GDP['Quarter'].replace(to_replace=r'Q3', value='-07-01', regex=True,inplace=True)\n",
    "HK_GDP['Quarter'].replace(to_replace=r'Q4', value='-10-01', regex=True,inplace=True)\n",
    "HK_GDP[\"date\"] = HK_GDP[\"Year\"].map(str) + HK_GDP[\"Quarter\"]\n",
    "HK_GDP = HK_GDP[['date','HK$ million']]\n",
    "HK_GDP['date'] = pd.to_datetime(HK_GDP['date'], format=\"%Y-%m-%d\")\n",
    "HK_GDP.set_index('date',inplace=True)"
   ]
  },
  {
   "cell_type": "code",
   "execution_count": 39,
   "metadata": {
    "ExecuteTime": {
     "end_time": "2019-04-17T09:03:21.674795Z",
     "start_time": "2019-04-17T09:03:21.635819Z"
    }
   },
   "outputs": [],
   "source": [
    "HK_GDP.rename(columns = {'HK$ million':'hong-kong-gdp'}, inplace=True)\n",
    "HK_GDP['hong-kong-gdp'] = HK_GDP['hong-kong-gdp'].astype('int')\n",
    "HK_GDP = HK_GDP.resample('D').median()\n",
    "HK_GDP.interpolate(method='time',inplace=True)\n",
    "HK_GDP = HK_GDP.astype('int')"
   ]
  },
  {
   "cell_type": "code",
   "execution_count": 40,
   "metadata": {
    "ExecuteTime": {
     "end_time": "2019-04-17T09:03:21.710776Z",
     "start_time": "2019-04-17T09:03:21.679793Z"
    }
   },
   "outputs": [
    {
     "name": "stdout",
     "output_type": "stream",
     "text": [
      "len: 8036\n"
     ]
    },
    {
     "data": {
      "text/html": [
       "<div>\n",
       "<style scoped>\n",
       "    .dataframe tbody tr th:only-of-type {\n",
       "        vertical-align: middle;\n",
       "    }\n",
       "\n",
       "    .dataframe tbody tr th {\n",
       "        vertical-align: top;\n",
       "    }\n",
       "\n",
       "    .dataframe thead th {\n",
       "        text-align: right;\n",
       "    }\n",
       "</style>\n",
       "<table border=\"1\" class=\"dataframe\">\n",
       "  <thead>\n",
       "    <tr style=\"text-align: right;\">\n",
       "      <th></th>\n",
       "      <th>hong-kong-gdp</th>\n",
       "    </tr>\n",
       "    <tr>\n",
       "      <th>date</th>\n",
       "      <th></th>\n",
       "    </tr>\n",
       "  </thead>\n",
       "  <tbody>\n",
       "    <tr>\n",
       "      <th>1996-01-01</th>\n",
       "      <td>279132</td>\n",
       "    </tr>\n",
       "    <tr>\n",
       "      <th>1996-01-02</th>\n",
       "      <td>279339</td>\n",
       "    </tr>\n",
       "    <tr>\n",
       "      <th>1996-01-03</th>\n",
       "      <td>279547</td>\n",
       "    </tr>\n",
       "    <tr>\n",
       "      <th>1996-01-04</th>\n",
       "      <td>279755</td>\n",
       "    </tr>\n",
       "    <tr>\n",
       "      <th>1996-01-05</th>\n",
       "      <td>279962</td>\n",
       "    </tr>\n",
       "  </tbody>\n",
       "</table>\n",
       "</div>"
      ],
      "text/plain": [
       "            hong-kong-gdp\n",
       "date                     \n",
       "1996-01-01         279132\n",
       "1996-01-02         279339\n",
       "1996-01-03         279547\n",
       "1996-01-04         279755\n",
       "1996-01-05         279962"
      ]
     },
     "execution_count": 40,
     "metadata": {},
     "output_type": "execute_result"
    }
   ],
   "source": [
    "HK_GDP = HK_GDP[HK_GDP.index >= date_from]\n",
    "HK_GDP = HK_GDP[HK_GDP.index <= date_until]\n",
    "print(\"len: \" + str(len(HK_GDP)))\n",
    "HK_GDP.head()"
   ]
  },
  {
   "cell_type": "code",
   "execution_count": 41,
   "metadata": {
    "ExecuteTime": {
     "end_time": "2019-04-17T09:03:21.744755Z",
     "start_time": "2019-04-17T09:03:21.717771Z"
    }
   },
   "outputs": [],
   "source": [
    "HK_GDP_resampled_QS = HK_GDP.resample('QS').median()\n",
    "normalized_HK_GDP = HK_GDP_resampled_QS.div(HK_GDP_resampled_QS.iloc[0]).mul(100)"
   ]
  },
  {
   "cell_type": "markdown",
   "metadata": {},
   "source": [
    "## Export the processed data"
   ]
  },
  {
   "cell_type": "markdown",
   "metadata": {},
   "source": [
    "### For the visualizations: join the 3 datasets"
   ]
  },
  {
   "cell_type": "code",
   "execution_count": 42,
   "metadata": {
    "ExecuteTime": {
     "end_time": "2019-04-17T09:03:25.340701Z",
     "start_time": "2019-04-17T09:03:21.749754Z"
    }
   },
   "outputs": [],
   "source": [
    "hong_kong_property_prices_all = data_processed_region.join(hang_seng, how='left').join(HK_GDP, how='left')"
   ]
  },
  {
   "cell_type": "code",
   "execution_count": 43,
   "metadata": {
    "ExecuteTime": {
     "end_time": "2019-04-17T09:03:27.684369Z",
     "start_time": "2019-04-17T09:03:25.344701Z"
    },
    "scrolled": true
   },
   "outputs": [
    {
     "name": "stdout",
     "output_type": "stream",
     "text": [
      "The processed transaction dataset has 1753761 data points with 12 variables each.\n",
      "\n",
      "empty cells:\n",
      "price               0\n",
      "saleablearea        0\n",
      "grossarea           0\n",
      "region              0\n",
      "regioncode          0\n",
      "floor               0\n",
      "yearofcompletion    0\n",
      "transaction_year    0\n",
      "netPricePerSqf      0\n",
      "district            0\n",
      "hang-seng-index     0\n",
      "hong-kong-gdp       0\n",
      "dtype: int64\n"
     ]
    },
    {
     "data": {
      "text/html": [
       "<div>\n",
       "<style scoped>\n",
       "    .dataframe tbody tr th:only-of-type {\n",
       "        vertical-align: middle;\n",
       "    }\n",
       "\n",
       "    .dataframe tbody tr th {\n",
       "        vertical-align: top;\n",
       "    }\n",
       "\n",
       "    .dataframe thead th {\n",
       "        text-align: right;\n",
       "    }\n",
       "</style>\n",
       "<table border=\"1\" class=\"dataframe\">\n",
       "  <thead>\n",
       "    <tr style=\"text-align: right;\">\n",
       "      <th></th>\n",
       "      <th>price</th>\n",
       "      <th>saleablearea</th>\n",
       "      <th>grossarea</th>\n",
       "      <th>region</th>\n",
       "      <th>regioncode</th>\n",
       "      <th>floor</th>\n",
       "      <th>yearofcompletion</th>\n",
       "      <th>transaction_year</th>\n",
       "      <th>netPricePerSqf</th>\n",
       "      <th>district</th>\n",
       "      <th>hang-seng-index</th>\n",
       "      <th>hong-kong-gdp</th>\n",
       "    </tr>\n",
       "    <tr>\n",
       "      <th>date</th>\n",
       "      <th></th>\n",
       "      <th></th>\n",
       "      <th></th>\n",
       "      <th></th>\n",
       "      <th></th>\n",
       "      <th></th>\n",
       "      <th></th>\n",
       "      <th></th>\n",
       "      <th></th>\n",
       "      <th></th>\n",
       "      <th></th>\n",
       "      <th></th>\n",
       "    </tr>\n",
       "  </thead>\n",
       "  <tbody>\n",
       "    <tr>\n",
       "      <th>2004-01-07</th>\n",
       "      <td>1220000</td>\n",
       "      <td>554</td>\n",
       "      <td>712</td>\n",
       "      <td>tsing yi</td>\n",
       "      <td>406</td>\n",
       "      <td>7</td>\n",
       "      <td>1988</td>\n",
       "      <td>2004</td>\n",
       "      <td>2202</td>\n",
       "      <td>New Territories</td>\n",
       "      <td>13122</td>\n",
       "      <td>314026</td>\n",
       "    </tr>\n",
       "    <tr>\n",
       "      <th>2010-02-10</th>\n",
       "      <td>4950000</td>\n",
       "      <td>638</td>\n",
       "      <td>876</td>\n",
       "      <td>tseung kwan o</td>\n",
       "      <td>209</td>\n",
       "      <td>13</td>\n",
       "      <td>2001</td>\n",
       "      <td>2010</td>\n",
       "      <td>7758</td>\n",
       "      <td>New Territories</td>\n",
       "      <td>19914</td>\n",
       "      <td>418331</td>\n",
       "    </tr>\n",
       "    <tr>\n",
       "      <th>2003-11-12</th>\n",
       "      <td>2040000</td>\n",
       "      <td>865</td>\n",
       "      <td>1124</td>\n",
       "      <td>tung chung/islands</td>\n",
       "      <td>408</td>\n",
       "      <td>12</td>\n",
       "      <td>2002</td>\n",
       "      <td>2003</td>\n",
       "      <td>2358</td>\n",
       "      <td>New Territories</td>\n",
       "      <td>12021</td>\n",
       "      <td>325766</td>\n",
       "    </tr>\n",
       "    <tr>\n",
       "      <th>2007-10-25</th>\n",
       "      <td>1250000</td>\n",
       "      <td>304</td>\n",
       "      <td>384</td>\n",
       "      <td>shau kei wan/chai wan</td>\n",
       "      <td>115</td>\n",
       "      <td>9</td>\n",
       "      <td>1982</td>\n",
       "      <td>2007</td>\n",
       "      <td>4111</td>\n",
       "      <td>Hong Kong Island</td>\n",
       "      <td>29660</td>\n",
       "      <td>448407</td>\n",
       "    </tr>\n",
       "    <tr>\n",
       "      <th>2014-11-20</th>\n",
       "      <td>3280000</td>\n",
       "      <td>221</td>\n",
       "      <td>347</td>\n",
       "      <td>mongkok/yaumatei</td>\n",
       "      <td>203</td>\n",
       "      <td>23</td>\n",
       "      <td>2004</td>\n",
       "      <td>2014</td>\n",
       "      <td>14841</td>\n",
       "      <td>Kowloon</td>\n",
       "      <td>23401</td>\n",
       "      <td>592681</td>\n",
       "    </tr>\n",
       "  </tbody>\n",
       "</table>\n",
       "</div>"
      ],
      "text/plain": [
       "              price  saleablearea  grossarea                 region  \\\n",
       "date                                                                  \n",
       "2004-01-07  1220000           554        712               tsing yi   \n",
       "2010-02-10  4950000           638        876          tseung kwan o   \n",
       "2003-11-12  2040000           865       1124     tung chung/islands   \n",
       "2007-10-25  1250000           304        384  shau kei wan/chai wan   \n",
       "2014-11-20  3280000           221        347       mongkok/yaumatei   \n",
       "\n",
       "            regioncode  floor yearofcompletion  transaction_year  \\\n",
       "date                                                               \n",
       "2004-01-07         406      7             1988              2004   \n",
       "2010-02-10         209     13             2001              2010   \n",
       "2003-11-12         408     12             2002              2003   \n",
       "2007-10-25         115      9             1982              2007   \n",
       "2014-11-20         203     23             2004              2014   \n",
       "\n",
       "            netPricePerSqf          district  hang-seng-index  hong-kong-gdp  \n",
       "date                                                                          \n",
       "2004-01-07            2202   New Territories            13122         314026  \n",
       "2010-02-10            7758   New Territories            19914         418331  \n",
       "2003-11-12            2358   New Territories            12021         325766  \n",
       "2007-10-25            4111  Hong Kong Island            29660         448407  \n",
       "2014-11-20           14841           Kowloon            23401         592681  "
      ]
     },
     "execution_count": 43,
     "metadata": {},
     "output_type": "execute_result"
    }
   ],
   "source": [
    "# Success\n",
    "print(\"The processed transaction dataset has {} data points with {} variables each.\\n\".format(*hong_kong_property_prices_all.shape))\n",
    "print(\"empty cells:\\n\" + str(hong_kong_property_prices_all.isnull().sum()))\n",
    "hong_kong_property_prices_all.sample(5)"
   ]
  },
  {
   "cell_type": "code",
   "execution_count": 44,
   "metadata": {
    "ExecuteTime": {
     "end_time": "2019-04-17T09:03:28.687810Z",
     "start_time": "2019-04-17T09:03:27.687362Z"
    }
   },
   "outputs": [
    {
     "name": "stdout",
     "output_type": "stream",
     "text": [
      "The processed transaction dataset has 1753761 data points with 9 variables each.\n",
      "\n",
      "empty cells:\n",
      "price               0\n",
      "saleablearea        0\n",
      "grossarea           0\n",
      "region              0\n",
      "regioncode          0\n",
      "floor               0\n",
      "yearofcompletion    0\n",
      "transaction_year    0\n",
      "netPricePerSqf      0\n",
      "dtype: int64\n"
     ]
    },
    {
     "data": {
      "text/html": [
       "<div>\n",
       "<style scoped>\n",
       "    .dataframe tbody tr th:only-of-type {\n",
       "        vertical-align: middle;\n",
       "    }\n",
       "\n",
       "    .dataframe tbody tr th {\n",
       "        vertical-align: top;\n",
       "    }\n",
       "\n",
       "    .dataframe thead th {\n",
       "        text-align: right;\n",
       "    }\n",
       "</style>\n",
       "<table border=\"1\" class=\"dataframe\">\n",
       "  <thead>\n",
       "    <tr style=\"text-align: right;\">\n",
       "      <th></th>\n",
       "      <th>price</th>\n",
       "      <th>saleablearea</th>\n",
       "      <th>grossarea</th>\n",
       "      <th>region</th>\n",
       "      <th>regioncode</th>\n",
       "      <th>floor</th>\n",
       "      <th>yearofcompletion</th>\n",
       "      <th>transaction_year</th>\n",
       "      <th>netPricePerSqf</th>\n",
       "      <th>district</th>\n",
       "      <th>hang-seng-index</th>\n",
       "      <th>hong-kong-gdp</th>\n",
       "    </tr>\n",
       "    <tr>\n",
       "      <th>date</th>\n",
       "      <th></th>\n",
       "      <th></th>\n",
       "      <th></th>\n",
       "      <th></th>\n",
       "      <th></th>\n",
       "      <th></th>\n",
       "      <th></th>\n",
       "      <th></th>\n",
       "      <th></th>\n",
       "      <th></th>\n",
       "      <th></th>\n",
       "      <th></th>\n",
       "    </tr>\n",
       "  </thead>\n",
       "  <tbody>\n",
       "    <tr>\n",
       "      <th>2005-05-30</th>\n",
       "      <td>1350000</td>\n",
       "      <td>284</td>\n",
       "      <td>395</td>\n",
       "      <td>shatin</td>\n",
       "      <td>302</td>\n",
       "      <td>30</td>\n",
       "      <td>1985</td>\n",
       "      <td>2005</td>\n",
       "      <td>4753</td>\n",
       "      <td>New Territories</td>\n",
       "      <td>13741</td>\n",
       "      <td>354992</td>\n",
       "    </tr>\n",
       "    <tr>\n",
       "      <th>1997-05-09</th>\n",
       "      <td>8650000</td>\n",
       "      <td>762</td>\n",
       "      <td>991</td>\n",
       "      <td>mid level west</td>\n",
       "      <td>106</td>\n",
       "      <td>11</td>\n",
       "      <td>1994</td>\n",
       "      <td>1997</td>\n",
       "      <td>11351</td>\n",
       "      <td>Hong Kong Island</td>\n",
       "      <td>13879</td>\n",
       "      <td>348213</td>\n",
       "    </tr>\n",
       "    <tr>\n",
       "      <th>2014-11-05</th>\n",
       "      <td>6650000</td>\n",
       "      <td>489</td>\n",
       "      <td>716</td>\n",
       "      <td>sheung wan/central/admiralty</td>\n",
       "      <td>117</td>\n",
       "      <td>7</td>\n",
       "      <td>2003</td>\n",
       "      <td>2014</td>\n",
       "      <td>13599</td>\n",
       "      <td>Hong Kong Island</td>\n",
       "      <td>23846</td>\n",
       "      <td>600010</td>\n",
       "    </tr>\n",
       "    <tr>\n",
       "      <th>1996-10-04</th>\n",
       "      <td>2850000</td>\n",
       "      <td>869</td>\n",
       "      <td>1130</td>\n",
       "      <td>kennedy town/sai yin pun</td>\n",
       "      <td>101</td>\n",
       "      <td>4</td>\n",
       "      <td>1966</td>\n",
       "      <td>1996</td>\n",
       "      <td>3279</td>\n",
       "      <td>Hong Kong Island</td>\n",
       "      <td>11985</td>\n",
       "      <td>337429</td>\n",
       "    </tr>\n",
       "    <tr>\n",
       "      <th>1999-06-10</th>\n",
       "      <td>5280000</td>\n",
       "      <td>794</td>\n",
       "      <td>983</td>\n",
       "      <td>kowloon station</td>\n",
       "      <td>202</td>\n",
       "      <td>25</td>\n",
       "      <td>2000</td>\n",
       "      <td>1999</td>\n",
       "      <td>6649</td>\n",
       "      <td>Kowloon</td>\n",
       "      <td>13022</td>\n",
       "      <td>326091</td>\n",
       "    </tr>\n",
       "  </tbody>\n",
       "</table>\n",
       "</div>"
      ],
      "text/plain": [
       "              price  saleablearea  grossarea                        region  \\\n",
       "date                                                                         \n",
       "2005-05-30  1350000           284        395                        shatin   \n",
       "1997-05-09  8650000           762        991                mid level west   \n",
       "2014-11-05  6650000           489        716  sheung wan/central/admiralty   \n",
       "1996-10-04  2850000           869       1130      kennedy town/sai yin pun   \n",
       "1999-06-10  5280000           794        983               kowloon station   \n",
       "\n",
       "            regioncode  floor yearofcompletion  transaction_year  \\\n",
       "date                                                               \n",
       "2005-05-30         302     30             1985              2005   \n",
       "1997-05-09         106     11             1994              1997   \n",
       "2014-11-05         117      7             2003              2014   \n",
       "1996-10-04         101      4             1966              1996   \n",
       "1999-06-10         202     25             2000              1999   \n",
       "\n",
       "            netPricePerSqf          district  hang-seng-index  hong-kong-gdp  \n",
       "date                                                                          \n",
       "2005-05-30            4753   New Territories            13741         354992  \n",
       "1997-05-09           11351  Hong Kong Island            13879         348213  \n",
       "2014-11-05           13599  Hong Kong Island            23846         600010  \n",
       "1996-10-04            3279  Hong Kong Island            11985         337429  \n",
       "1999-06-10            6649           Kowloon            13022         326091  "
      ]
     },
     "execution_count": 44,
     "metadata": {},
     "output_type": "execute_result"
    }
   ],
   "source": [
    "print(\"The processed transaction dataset has {} data points with {} variables each.\\n\".format(*data.shape))\n",
    "print(\"empty cells:\\n\" + str(data.isnull().sum()))\n",
    "hong_kong_property_prices_all.sample(5)"
   ]
  },
  {
   "cell_type": "markdown",
   "metadata": {},
   "source": [
    "#### Absolute values"
   ]
  },
  {
   "cell_type": "code",
   "execution_count": 45,
   "metadata": {
    "ExecuteTime": {
     "end_time": "2019-04-17T09:03:28.696786Z",
     "start_time": "2019-04-17T09:03:28.689790Z"
    }
   },
   "outputs": [
    {
     "data": {
      "text/plain": [
       "Index(['price', 'saleablearea', 'grossarea', 'region', 'regioncode', 'floor',\n",
       "       'yearofcompletion', 'transaction_year', 'netPricePerSqf', 'district',\n",
       "       'hang-seng-index', 'hong-kong-gdp'],\n",
       "      dtype='object')"
      ]
     },
     "execution_count": 45,
     "metadata": {},
     "output_type": "execute_result"
    }
   ],
   "source": [
    "hong_kong_property_prices_all.columns"
   ]
  },
  {
   "cell_type": "code",
   "execution_count": 46,
   "metadata": {
    "ExecuteTime": {
     "end_time": "2019-04-17T09:04:21.573593Z",
     "start_time": "2019-04-17T09:03:28.703783Z"
    }
   },
   "outputs": [],
   "source": [
    "hong_kong_property_prices_HSI_GDP_district = hong_kong_property_prices_all[['price','transaction_year','saleablearea','district','yearofcompletion',\n",
    "       'netPricePerSqf','hang-seng-index','hong-kong-gdp']]\n",
    "hong_kong_property_prices_HSI_GDP_district.to_csv('data/processed/hong-kong-property-prices-HSI-GDP-district.csv')"
   ]
  },
  {
   "cell_type": "markdown",
   "metadata": {},
   "source": [
    "#### Normalized data, base 100"
   ]
  },
  {
   "cell_type": "code",
   "execution_count": 47,
   "metadata": {
    "ExecuteTime": {
     "end_time": "2019-04-17T09:04:21.627562Z",
     "start_time": "2019-04-17T09:04:21.578591Z"
    }
   },
   "outputs": [
    {
     "data": {
      "text/html": [
       "<div>\n",
       "<style scoped>\n",
       "    .dataframe tbody tr th:only-of-type {\n",
       "        vertical-align: middle;\n",
       "    }\n",
       "\n",
       "    .dataframe tbody tr th {\n",
       "        vertical-align: top;\n",
       "    }\n",
       "\n",
       "    .dataframe thead th {\n",
       "        text-align: right;\n",
       "    }\n",
       "</style>\n",
       "<table border=\"1\" class=\"dataframe\">\n",
       "  <thead>\n",
       "    <tr style=\"text-align: right;\">\n",
       "      <th></th>\n",
       "      <th>netPricePerSqf</th>\n",
       "      <th>hang-seng-index</th>\n",
       "      <th>hong-kong-gdp</th>\n",
       "    </tr>\n",
       "    <tr>\n",
       "      <th>date</th>\n",
       "      <th></th>\n",
       "      <th></th>\n",
       "      <th></th>\n",
       "    </tr>\n",
       "  </thead>\n",
       "  <tbody>\n",
       "    <tr>\n",
       "      <th>1996-01-01</th>\n",
       "      <td>100.0</td>\n",
       "      <td>100.0</td>\n",
       "      <td>100.0</td>\n",
       "    </tr>\n",
       "    <tr>\n",
       "      <th>1996-04-01</th>\n",
       "      <td>107.0</td>\n",
       "      <td>99.0</td>\n",
       "      <td>107.0</td>\n",
       "    </tr>\n",
       "    <tr>\n",
       "      <th>1996-07-01</th>\n",
       "      <td>111.0</td>\n",
       "      <td>101.0</td>\n",
       "      <td>114.0</td>\n",
       "    </tr>\n",
       "    <tr>\n",
       "      <th>1996-10-01</th>\n",
       "      <td>119.0</td>\n",
       "      <td>116.0</td>\n",
       "      <td>113.0</td>\n",
       "    </tr>\n",
       "    <tr>\n",
       "      <th>1997-01-01</th>\n",
       "      <td>130.0</td>\n",
       "      <td>121.0</td>\n",
       "      <td>113.0</td>\n",
       "    </tr>\n",
       "  </tbody>\n",
       "</table>\n",
       "</div>"
      ],
      "text/plain": [
       "            netPricePerSqf  hang-seng-index  hong-kong-gdp\n",
       "date                                                      \n",
       "1996-01-01           100.0            100.0          100.0\n",
       "1996-04-01           107.0             99.0          107.0\n",
       "1996-07-01           111.0            101.0          114.0\n",
       "1996-10-01           119.0            116.0          113.0\n",
       "1997-01-01           130.0            121.0          113.0"
      ]
     },
     "execution_count": 47,
     "metadata": {},
     "output_type": "execute_result"
    }
   ],
   "source": [
    "hong_kong_property_prices_HSI_GDP_normalized = normalized_netPricePerSqf_QS.join(normalized_hang_seng, how='left').join(normalized_HK_GDP, how='left')\n",
    "hong_kong_property_prices_HSI_GDP_normalized = hong_kong_property_prices_HSI_GDP_normalized.round(0)\n",
    "hong_kong_property_prices_HSI_GDP_normalized.to_csv('data/processed/hong-kong-property-prices-HSI-GDP-normalized.csv')\n",
    "hong_kong_property_prices_HSI_GDP_normalized.head()"
   ]
  },
  {
   "cell_type": "markdown",
   "metadata": {},
   "source": [
    "### For modeling"
   ]
  },
  {
   "cell_type": "code",
   "execution_count": 48,
   "metadata": {
    "ExecuteTime": {
     "end_time": "2019-04-17T09:04:23.390557Z",
     "start_time": "2019-04-17T09:04:21.631562Z"
    }
   },
   "outputs": [],
   "source": [
    "#Select the regions with over 5000 transactions\n",
    "data_model = data[data.groupby(\"region\")['region'].transform('size') > 5000]\n",
    "\n",
    "# Select the most homogeneous regions\n",
    "data_model = data_model[data_model.groupby('region')['netPricePerSqf'].transform('var')  < 8e+06]\n",
    "\n",
    "data_model.drop(columns=['region'],inplace=True)"
   ]
  },
  {
   "cell_type": "code",
   "execution_count": 49,
   "metadata": {
    "ExecuteTime": {
     "end_time": "2019-04-17T09:04:23.407547Z",
     "start_time": "2019-04-17T09:04:23.394553Z"
    }
   },
   "outputs": [
    {
     "data": {
      "text/plain": [
       "634069"
      ]
     },
     "execution_count": 49,
     "metadata": {},
     "output_type": "execute_result"
    }
   ],
   "source": [
    "len(data_model)"
   ]
  },
  {
   "cell_type": "code",
   "execution_count": 50,
   "metadata": {
    "ExecuteTime": {
     "end_time": "2019-04-17T09:04:23.464515Z",
     "start_time": "2019-04-17T09:04:23.412543Z"
    }
   },
   "outputs": [
    {
     "data": {
      "text/html": [
       "<div>\n",
       "<style scoped>\n",
       "    .dataframe tbody tr th:only-of-type {\n",
       "        vertical-align: middle;\n",
       "    }\n",
       "\n",
       "    .dataframe tbody tr th {\n",
       "        vertical-align: top;\n",
       "    }\n",
       "\n",
       "    .dataframe thead th {\n",
       "        text-align: right;\n",
       "    }\n",
       "</style>\n",
       "<table border=\"1\" class=\"dataframe\">\n",
       "  <thead>\n",
       "    <tr style=\"text-align: right;\">\n",
       "      <th></th>\n",
       "      <th>price</th>\n",
       "      <th>saleablearea</th>\n",
       "      <th>grossarea</th>\n",
       "      <th>regioncode</th>\n",
       "      <th>floor</th>\n",
       "      <th>yearofcompletion</th>\n",
       "      <th>transaction_year</th>\n",
       "      <th>netPricePerSqf</th>\n",
       "    </tr>\n",
       "    <tr>\n",
       "      <th>date</th>\n",
       "      <th></th>\n",
       "      <th></th>\n",
       "      <th></th>\n",
       "      <th></th>\n",
       "      <th></th>\n",
       "      <th></th>\n",
       "      <th></th>\n",
       "      <th></th>\n",
       "    </tr>\n",
       "  </thead>\n",
       "  <tbody>\n",
       "    <tr>\n",
       "      <th>1996-01-02</th>\n",
       "      <td>2200000</td>\n",
       "      <td>561</td>\n",
       "      <td>823</td>\n",
       "      <td>409</td>\n",
       "      <td>12</td>\n",
       "      <td>1986</td>\n",
       "      <td>1996</td>\n",
       "      <td>3921</td>\n",
       "    </tr>\n",
       "    <tr>\n",
       "      <th>1996-01-02</th>\n",
       "      <td>1190000</td>\n",
       "      <td>501</td>\n",
       "      <td>620</td>\n",
       "      <td>402</td>\n",
       "      <td>36</td>\n",
       "      <td>1990</td>\n",
       "      <td>1996</td>\n",
       "      <td>2375</td>\n",
       "    </tr>\n",
       "    <tr>\n",
       "      <th>1996-01-02</th>\n",
       "      <td>1790000</td>\n",
       "      <td>584</td>\n",
       "      <td>743</td>\n",
       "      <td>402</td>\n",
       "      <td>10</td>\n",
       "      <td>1993</td>\n",
       "      <td>1996</td>\n",
       "      <td>3065</td>\n",
       "    </tr>\n",
       "    <tr>\n",
       "      <th>1996-01-02</th>\n",
       "      <td>3130000</td>\n",
       "      <td>761</td>\n",
       "      <td>972</td>\n",
       "      <td>308</td>\n",
       "      <td>1</td>\n",
       "      <td>1992</td>\n",
       "      <td>1996</td>\n",
       "      <td>4113</td>\n",
       "    </tr>\n",
       "    <tr>\n",
       "      <th>1996-01-02</th>\n",
       "      <td>2250000</td>\n",
       "      <td>447</td>\n",
       "      <td>562</td>\n",
       "      <td>302</td>\n",
       "      <td>30</td>\n",
       "      <td>1986</td>\n",
       "      <td>1996</td>\n",
       "      <td>5033</td>\n",
       "    </tr>\n",
       "  </tbody>\n",
       "</table>\n",
       "</div>"
      ],
      "text/plain": [
       "              price  saleablearea  grossarea  regioncode  floor  \\\n",
       "date                                                              \n",
       "1996-01-02  2200000           561        823         409     12   \n",
       "1996-01-02  1190000           501        620         402     36   \n",
       "1996-01-02  1790000           584        743         402     10   \n",
       "1996-01-02  3130000           761        972         308      1   \n",
       "1996-01-02  2250000           447        562         302     30   \n",
       "\n",
       "           yearofcompletion  transaction_year  netPricePerSqf  \n",
       "date                                                           \n",
       "1996-01-02             1986              1996            3921  \n",
       "1996-01-02             1990              1996            2375  \n",
       "1996-01-02             1993              1996            3065  \n",
       "1996-01-02             1992              1996            4113  \n",
       "1996-01-02             1986              1996            5033  "
      ]
     },
     "execution_count": 50,
     "metadata": {},
     "output_type": "execute_result"
    }
   ],
   "source": [
    "data_model.head()"
   ]
  },
  {
   "cell_type": "code",
   "execution_count": 51,
   "metadata": {
    "ExecuteTime": {
     "end_time": "2019-04-17T09:04:46.306472Z",
     "start_time": "2019-04-17T09:04:23.469512Z"
    }
   },
   "outputs": [],
   "source": [
    "data_model.to_csv('data/processed/hong-kong-property-prices-model.csv')"
   ]
  }
 ],
 "metadata": {
  "kernelspec": {
   "display_name": "Python 3",
   "language": "python",
   "name": "python3"
  },
  "language_info": {
   "codemirror_mode": {
    "name": "ipython",
    "version": 3
   },
   "file_extension": ".py",
   "mimetype": "text/x-python",
   "name": "python",
   "nbconvert_exporter": "python",
   "pygments_lexer": "ipython3",
   "version": "3.7.1"
  },
  "toc": {
   "base_numbering": 1,
   "nav_menu": {},
   "number_sections": true,
   "sideBar": true,
   "skip_h1_title": false,
   "title_cell": "Table of Contents",
   "title_sidebar": "Contents",
   "toc_cell": true,
   "toc_position": {
    "height": "calc(100% - 180px)",
    "left": "10px",
    "top": "150px",
    "width": "287.766px"
   },
   "toc_section_display": true,
   "toc_window_display": true
  }
 },
 "nbformat": 4,
 "nbformat_minor": 2
}
